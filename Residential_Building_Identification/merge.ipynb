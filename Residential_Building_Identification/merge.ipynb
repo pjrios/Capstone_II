{
 "cells": [
  {
   "cell_type": "markdown",
   "id": "df15c7d6",
   "metadata": {},
   "source": [
    "Takes a input_directory argument, which is the name of the directory containing the input GeoJSON files. It loops through the files in the directory, and only processes the ones that have a .geojson file extension."
   ]
  },
  {
   "cell_type": "code",
   "execution_count": null,
   "id": "f8949016",
   "metadata": {},
   "outputs": [],
   "source": [
    "import json\n",
    "import os\n",
    "\n",
    "def merge_geojson(output_filename, input_directory):\n",
    "    # Initialize an empty list to hold the feature collections\n",
    "    feature_collections = []\n",
    "\n",
    "    # Loop through the files in the input directory\n",
    "    for file in os.listdir(input_directory):\n",
    "        # Skip files that are not GeoJSON files\n",
    "        if not file.endswith('.geojson'):\n",
    "            continue\n",
    "\n",
    "        # Open the input file and load the GeoJSON data\n",
    "        with open(os.path.join(input_directory, file), 'r') as input_file:\n",
    "            data = json.load(input_file)\n",
    "\n",
    "        # Add the feature collection from the input file to the list\n",
    "        feature_collections.extend(data['features'])\n",
    "\n",
    "    # Create a new GeoJSON feature collection with all of the features from the input files\n",
    "    merged_data = {\n",
    "        'type': 'FeatureCollection',\n",
    "        'features': feature_collections\n",
    "    }\n",
    "\n",
    "    # Write the merged data to the output file\n",
    "    with open(output_filename, 'w') as output_file:\n",
    "        json.dump(merged_data, output_file)\n",
    "\n",
    "# Example usage:\n",
    "merge_geojson('merged.geojson', 'input_directory')"
   ]
  }
 ],
 "metadata": {
  "kernelspec": {
   "display_name": "Python 3 (ipykernel)",
   "language": "python",
   "name": "python3"
  },
  "language_info": {
   "codemirror_mode": {
    "name": "ipython",
    "version": 3
   },
   "file_extension": ".py",
   "mimetype": "text/x-python",
   "name": "python",
   "nbconvert_exporter": "python",
   "pygments_lexer": "ipython3",
   "version": "3.10.8"
  }
 },
 "nbformat": 4,
 "nbformat_minor": 5
}
