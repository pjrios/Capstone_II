{
 "cells": [
  {
   "cell_type": "code",
   "execution_count": 2,
   "metadata": {
    "id": "OTy2gHQg0L8i"
   },
   "outputs": [],
   "source": [
    "import json\n",
    "import subprocess\n",
    "import shutil\n",
    "import os, glob\n",
    "import time\n",
    "from tqdm import tqdm\n",
    "from shapely.geometry import Polygon, box"
   ]
  },
  {
   "cell_type": "code",
   "execution_count": 3,
   "metadata": {
    "id": "ccL3qCXv1UPu"
   },
   "outputs": [],
   "source": [
    "state = 'arkansas'"
   ]
  },
  {
   "cell_type": "code",
   "execution_count": 21,
   "metadata": {
    "id": "sGdXd4SO0S2x"
   },
   "outputs": [
    {
     "name": "stdout",
     "output_type": "stream",
     "text": [
      "Paths:\n",
      "--Working directory   : G:\\My Drive\\states\\arkansas\n",
      "--Filtered files      : G:\\My Drive\\states\\arkansas\\counties_filtered\n",
      "--Processing          : G:\\My Drive\\states\\arkansas\\images\\processing\n",
      "--Completed           : G:\\My Drive\\states\\arkansas\\images\\completed\n",
      "\n",
      "--Output directory    : C:\\Users\\pjrio\\Box\\Images\\states\\arkansas\n",
      "--Temporary files     : C:\\Users\\pjrio\\OneDrive - University of Arkansas\\Documents\\temp\n",
      "\n",
      "--Downloader          : C:\\allmapsoft\\gsmd\\downloader.exe \n",
      "--Combiner            : C:\\allmapsoft\\gsmd\\combiner.exe \n"
     ]
    }
   ],
   "source": [
    "# We are keeping this files in drive\n",
    "# name of the state we are working with\n",
    "working_directory_path = \"G:\\\\My Drive\\\\states\\\\{}\".format(state)\n",
    "processing             = \"{}\\\\images\\\\processing\".format(working_directory_path)\n",
    "completed              = \"{}\\\\images\\\\completed\".format(working_directory_path)\n",
    "filtered_files_path    = \"{}\\\\counties_filtered\".format(working_directory_path)\n",
    "\n",
    "# We are keeping the images in box\n",
    "img_path               = \"C:\\\\Users\\pjrio\\\\Box\\\\Images\\\\states\\\\{}\".format(state)\n",
    "\n",
    "# Path to some place with full acces to be able to delete files\n",
    "temp                   = \"C:\\\\Users\\\\pjrio\\\\OneDrive - University of Arkansas\\\\Documents\"+\"\\\\temp\"\n",
    "\n",
    "# Note: This paths might need to be change depending on where you installed the software\n",
    "# paths for allmapsoft program\n",
    "downloader_path        = \"C:\\\\allmapsoft\\\\gsmd\\\\downloader.exe \"\n",
    "combiner_path          = \"C:\\\\allmapsoft\\\\gsmd\\\\combiner.exe \"\n",
    "\n",
    "# Create images directory if it doesn't exist\n",
    "os.makedirs(img_path, exist_ok=True)\n",
    "os.makedirs(temp_path, exist_ok=True)\n",
    "os.makedirs(processing, exist_ok=True)\n",
    "os.makedirs(completed, exist_ok=True)\n",
    "\n",
    "print(\"Paths:\")\n",
    "print(\"--Working directory   : \" + working_directory_path)\n",
    "print(\"--Filtered files      : \" + filtered_files_path)\n",
    "print(\"--Processing          : \" + processing)\n",
    "print(\"--Completed           : \" + completed+\"\\n\")\n",
    "\n",
    "print(\"--Output directory    : \" + img_path+\"\")\n",
    "print(\"--Temporary files     : \" + temp+\"\\n\")\n",
    "\n",
    "print(\"--Downloader          : \" + downloader_path)\n",
    "print(\"--Combiner            : \" + combiner_path)"
   ]
  },
  {
   "cell_type": "code",
   "execution_count": 12,
   "metadata": {},
   "outputs": [],
   "source": [
    "def get_square_bounds(polygon):\n",
    "    # Convert the input polygon to a shapely Polygon\n",
    "    shapely_polygon = Polygon(polygon[0])\n",
    "    \n",
    "    # Get the bounding box of the polygon\n",
    "    bbox = shapely_polygon.bounds\n",
    "    \n",
    "    # Extract the left, right, top and bottom coordinates\n",
    "    left, bottom, right, top = bbox\n",
    "    return f\"{left} {right} {top} {bottom}\""
   ]
  },
  {
   "cell_type": "code",
   "execution_count": 13,
   "metadata": {},
   "outputs": [],
   "source": [
    "user = \"Porfirio-desktop\""
   ]
  },
  {
   "cell_type": "code",
   "execution_count": 16,
   "metadata": {
    "id": "Ty78EPIbqUCm",
    "scrolled": false
   },
   "outputs": [
    {
     "name": "stdout",
     "output_type": "stream",
     "text": [
      "Processing: Calhoun_County\n",
      "**Calhoun_County was completed by: Porfirio-desktop\n",
      "Processing: Dallas_County\n",
      "**Dallas_County was completed by: Porfirio-desktop\n",
      "Processing: Lee_County\n",
      "**Lee_County was completed by: Porfirio-desktop\n",
      "Processing: Monroe_County\n",
      "**Monroe_County was completed by: TAs_office-Porfirios_desktop\n",
      "Processing: Woodruff_County\n",
      "**Woodruff_County was completed by: Porfirio-laptop2\n",
      "Processing: Cleveland_County\n",
      "**Cleveland_County was completed by: TAs_office-Porfirios_desktop\n",
      "Processing: Lafayette_County\n",
      "**Lafayette_County was completed by: Porfirio-laptop2\n",
      "Processing: Prairie_County\n",
      "**Prairie_County was completed by: TAs_office-Porfirios_desktop\n",
      "Processing: Nevada_County\n",
      "**Nevada_County was completed by: CSCE-laptop\n",
      "Processing: Lincoln_County\n",
      "**Lincoln_County was completed by: TAs_office-Porfirios_desktop\n",
      "Processing: Desha_County\n",
      "--Desha_County is being processed by: Porfirio-laptop2\n",
      "Processing: Perry_County\n",
      "Processed images: 899\n"
     ]
    },
    {
     "name": "stderr",
     "output_type": "stream",
     "text": [
      "Processing data:   0%|          | 9/6188 [01:22<15:44:03,  9.17s/it]\n"
     ]
    },
    {
     "ename": "KeyboardInterrupt",
     "evalue": "",
     "output_type": "error",
     "traceback": [
      "\u001b[1;31m---------------------------------------------------------------------------\u001b[0m",
      "\u001b[1;31mKeyboardInterrupt\u001b[0m                         Traceback (most recent call last)",
      "Cell \u001b[1;32mIn[16], line 76\u001b[0m\n\u001b[0;32m     74\u001b[0m command \u001b[38;5;241m=\u001b[39m downloader_path \u001b[38;5;241m+\u001b[39m \u001b[38;5;124m'\u001b[39m\u001b[38;5;124m\"\u001b[39m\u001b[38;5;124m'\u001b[39m\u001b[38;5;241m+\u001b[39mgmid_name \u001b[38;5;241m+\u001b[39m\u001b[38;5;124m'\u001b[39m\u001b[38;5;130;01m\\\"\u001b[39;00m\u001b[38;5;124m \u001b[39m\u001b[38;5;124m'\u001b[39m \u001b[38;5;241m+\u001b[39m para2 \u001b[38;5;241m+\u001b[39m\u001b[38;5;124m\"\u001b[39m\u001b[38;5;124m \u001b[39m\u001b[38;5;124m\"\u001b[39m\u001b[38;5;241m+\u001b[39m para3 \u001b[38;5;241m+\u001b[39m \u001b[38;5;124m\"\u001b[39m\u001b[38;5;124m \u001b[39m\u001b[38;5;124m\"\u001b[39m\u001b[38;5;241m+\u001b[39m square \u001b[38;5;241m+\u001b[39m\u001b[38;5;124m'\u001b[39m\u001b[38;5;124m \u001b[39m\u001b[38;5;124m\"\u001b[39m\u001b[38;5;124m'\u001b[39m\u001b[38;5;241m+\u001b[39m temp \u001b[38;5;241m+\u001b[39m\u001b[38;5;124m'\u001b[39m\u001b[38;5;124m\"\u001b[39m\u001b[38;5;124m'\u001b[39m\n\u001b[0;32m     75\u001b[0m \u001b[38;5;66;03m# Call cmd and run downloader program\u001b[39;00m\n\u001b[1;32m---> 76\u001b[0m \u001b[43msubprocess\u001b[49m\u001b[38;5;241;43m.\u001b[39;49m\u001b[43mrun\u001b[49m\u001b[43m(\u001b[49m\u001b[43mcommand\u001b[49m\u001b[43m,\u001b[49m\u001b[43m \u001b[49m\u001b[43mstdout\u001b[49m\u001b[38;5;241;43m=\u001b[39;49m\u001b[43msubprocess\u001b[49m\u001b[38;5;241;43m.\u001b[39;49m\u001b[43mPIPE\u001b[49m\u001b[43m,\u001b[49m\u001b[43m \u001b[49m\u001b[43mstderr\u001b[49m\u001b[38;5;241;43m=\u001b[39;49m\u001b[43msubprocess\u001b[49m\u001b[38;5;241;43m.\u001b[39;49m\u001b[43mPIPE\u001b[49m\u001b[43m)\u001b[49m\n\u001b[0;32m     78\u001b[0m combine \u001b[38;5;241m=\u001b[39m combiner_path \u001b[38;5;241m+\u001b[39m\u001b[38;5;124m'\u001b[39m\u001b[38;5;124m\"\u001b[39m\u001b[38;5;124m'\u001b[39m \u001b[38;5;241m+\u001b[39m temp \u001b[38;5;241m+\u001b[39m\u001b[38;5;124m\"\u001b[39m\u001b[38;5;130;01m\\\\\u001b[39;00m\u001b[38;5;124m\"\u001b[39m\u001b[38;5;241m+\u001b[39m gmid_name \u001b[38;5;241m+\u001b[39m\u001b[38;5;124m\"\u001b[39m\u001b[38;5;130;01m\\\"\u001b[39;00m\u001b[38;5;124m jpg meters\u001b[39m\u001b[38;5;124m\"\u001b[39m\n\u001b[0;32m     80\u001b[0m \u001b[38;5;66;03m# Call cmd and run combine program\u001b[39;00m\n",
      "File \u001b[1;32m~\\anaconda3\\envs\\Capstone_II\\lib\\subprocess.py:505\u001b[0m, in \u001b[0;36mrun\u001b[1;34m(input, capture_output, timeout, check, *popenargs, **kwargs)\u001b[0m\n\u001b[0;32m    503\u001b[0m \u001b[38;5;28;01mwith\u001b[39;00m Popen(\u001b[38;5;241m*\u001b[39mpopenargs, \u001b[38;5;241m*\u001b[39m\u001b[38;5;241m*\u001b[39mkwargs) \u001b[38;5;28;01mas\u001b[39;00m process:\n\u001b[0;32m    504\u001b[0m     \u001b[38;5;28;01mtry\u001b[39;00m:\n\u001b[1;32m--> 505\u001b[0m         stdout, stderr \u001b[38;5;241m=\u001b[39m \u001b[43mprocess\u001b[49m\u001b[38;5;241;43m.\u001b[39;49m\u001b[43mcommunicate\u001b[49m\u001b[43m(\u001b[49m\u001b[38;5;28;43minput\u001b[39;49m\u001b[43m,\u001b[49m\u001b[43m \u001b[49m\u001b[43mtimeout\u001b[49m\u001b[38;5;241;43m=\u001b[39;49m\u001b[43mtimeout\u001b[49m\u001b[43m)\u001b[49m\n\u001b[0;32m    506\u001b[0m     \u001b[38;5;28;01mexcept\u001b[39;00m TimeoutExpired \u001b[38;5;28;01mas\u001b[39;00m exc:\n\u001b[0;32m    507\u001b[0m         process\u001b[38;5;241m.\u001b[39mkill()\n",
      "File \u001b[1;32m~\\anaconda3\\envs\\Capstone_II\\lib\\subprocess.py:1154\u001b[0m, in \u001b[0;36mPopen.communicate\u001b[1;34m(self, input, timeout)\u001b[0m\n\u001b[0;32m   1151\u001b[0m     endtime \u001b[38;5;241m=\u001b[39m \u001b[38;5;28;01mNone\u001b[39;00m\n\u001b[0;32m   1153\u001b[0m \u001b[38;5;28;01mtry\u001b[39;00m:\n\u001b[1;32m-> 1154\u001b[0m     stdout, stderr \u001b[38;5;241m=\u001b[39m \u001b[38;5;28;43mself\u001b[39;49m\u001b[38;5;241;43m.\u001b[39;49m\u001b[43m_communicate\u001b[49m\u001b[43m(\u001b[49m\u001b[38;5;28;43minput\u001b[39;49m\u001b[43m,\u001b[49m\u001b[43m \u001b[49m\u001b[43mendtime\u001b[49m\u001b[43m,\u001b[49m\u001b[43m \u001b[49m\u001b[43mtimeout\u001b[49m\u001b[43m)\u001b[49m\n\u001b[0;32m   1155\u001b[0m \u001b[38;5;28;01mexcept\u001b[39;00m \u001b[38;5;167;01mKeyboardInterrupt\u001b[39;00m:\n\u001b[0;32m   1156\u001b[0m     \u001b[38;5;66;03m# https://bugs.python.org/issue25942\u001b[39;00m\n\u001b[0;32m   1157\u001b[0m     \u001b[38;5;66;03m# See the detailed comment in .wait().\u001b[39;00m\n\u001b[0;32m   1158\u001b[0m     \u001b[38;5;28;01mif\u001b[39;00m timeout \u001b[38;5;129;01mis\u001b[39;00m \u001b[38;5;129;01mnot\u001b[39;00m \u001b[38;5;28;01mNone\u001b[39;00m:\n",
      "File \u001b[1;32m~\\anaconda3\\envs\\Capstone_II\\lib\\subprocess.py:1528\u001b[0m, in \u001b[0;36mPopen._communicate\u001b[1;34m(self, input, endtime, orig_timeout)\u001b[0m\n\u001b[0;32m   1524\u001b[0m \u001b[38;5;66;03m# Wait for the reader threads, or time out.  If we time out, the\u001b[39;00m\n\u001b[0;32m   1525\u001b[0m \u001b[38;5;66;03m# threads remain reading and the fds left open in case the user\u001b[39;00m\n\u001b[0;32m   1526\u001b[0m \u001b[38;5;66;03m# calls communicate again.\u001b[39;00m\n\u001b[0;32m   1527\u001b[0m \u001b[38;5;28;01mif\u001b[39;00m \u001b[38;5;28mself\u001b[39m\u001b[38;5;241m.\u001b[39mstdout \u001b[38;5;129;01mis\u001b[39;00m \u001b[38;5;129;01mnot\u001b[39;00m \u001b[38;5;28;01mNone\u001b[39;00m:\n\u001b[1;32m-> 1528\u001b[0m     \u001b[38;5;28;43mself\u001b[39;49m\u001b[38;5;241;43m.\u001b[39;49m\u001b[43mstdout_thread\u001b[49m\u001b[38;5;241;43m.\u001b[39;49m\u001b[43mjoin\u001b[49m\u001b[43m(\u001b[49m\u001b[38;5;28;43mself\u001b[39;49m\u001b[38;5;241;43m.\u001b[39;49m\u001b[43m_remaining_time\u001b[49m\u001b[43m(\u001b[49m\u001b[43mendtime\u001b[49m\u001b[43m)\u001b[49m\u001b[43m)\u001b[49m\n\u001b[0;32m   1529\u001b[0m     \u001b[38;5;28;01mif\u001b[39;00m \u001b[38;5;28mself\u001b[39m\u001b[38;5;241m.\u001b[39mstdout_thread\u001b[38;5;241m.\u001b[39mis_alive():\n\u001b[0;32m   1530\u001b[0m         \u001b[38;5;28;01mraise\u001b[39;00m TimeoutExpired(\u001b[38;5;28mself\u001b[39m\u001b[38;5;241m.\u001b[39margs, orig_timeout)\n",
      "File \u001b[1;32m~\\anaconda3\\envs\\Capstone_II\\lib\\threading.py:1096\u001b[0m, in \u001b[0;36mThread.join\u001b[1;34m(self, timeout)\u001b[0m\n\u001b[0;32m   1093\u001b[0m     \u001b[38;5;28;01mraise\u001b[39;00m \u001b[38;5;167;01mRuntimeError\u001b[39;00m(\u001b[38;5;124m\"\u001b[39m\u001b[38;5;124mcannot join current thread\u001b[39m\u001b[38;5;124m\"\u001b[39m)\n\u001b[0;32m   1095\u001b[0m \u001b[38;5;28;01mif\u001b[39;00m timeout \u001b[38;5;129;01mis\u001b[39;00m \u001b[38;5;28;01mNone\u001b[39;00m:\n\u001b[1;32m-> 1096\u001b[0m     \u001b[38;5;28;43mself\u001b[39;49m\u001b[38;5;241;43m.\u001b[39;49m\u001b[43m_wait_for_tstate_lock\u001b[49m\u001b[43m(\u001b[49m\u001b[43m)\u001b[49m\n\u001b[0;32m   1097\u001b[0m \u001b[38;5;28;01melse\u001b[39;00m:\n\u001b[0;32m   1098\u001b[0m     \u001b[38;5;66;03m# the behavior of a negative timeout isn't documented, but\u001b[39;00m\n\u001b[0;32m   1099\u001b[0m     \u001b[38;5;66;03m# historically .join(timeout=x) for x<0 has acted as if timeout=0\u001b[39;00m\n\u001b[0;32m   1100\u001b[0m     \u001b[38;5;28mself\u001b[39m\u001b[38;5;241m.\u001b[39m_wait_for_tstate_lock(timeout\u001b[38;5;241m=\u001b[39m\u001b[38;5;28mmax\u001b[39m(timeout, \u001b[38;5;241m0\u001b[39m))\n",
      "File \u001b[1;32m~\\anaconda3\\envs\\Capstone_II\\lib\\threading.py:1116\u001b[0m, in \u001b[0;36mThread._wait_for_tstate_lock\u001b[1;34m(self, block, timeout)\u001b[0m\n\u001b[0;32m   1113\u001b[0m     \u001b[38;5;28;01mreturn\u001b[39;00m\n\u001b[0;32m   1115\u001b[0m \u001b[38;5;28;01mtry\u001b[39;00m:\n\u001b[1;32m-> 1116\u001b[0m     \u001b[38;5;28;01mif\u001b[39;00m \u001b[43mlock\u001b[49m\u001b[38;5;241;43m.\u001b[39;49m\u001b[43macquire\u001b[49m\u001b[43m(\u001b[49m\u001b[43mblock\u001b[49m\u001b[43m,\u001b[49m\u001b[43m \u001b[49m\u001b[43mtimeout\u001b[49m\u001b[43m)\u001b[49m:\n\u001b[0;32m   1117\u001b[0m         lock\u001b[38;5;241m.\u001b[39mrelease()\n\u001b[0;32m   1118\u001b[0m         \u001b[38;5;28mself\u001b[39m\u001b[38;5;241m.\u001b[39m_stop()\n",
      "\u001b[1;31mKeyboardInterrupt\u001b[0m: "
     ]
    }
   ],
   "source": [
    "# Get a list of all the GeoJSON files in the directory\n",
    "geojson_files = sorted(glob.glob(os.path.join(filtered_files_path, \"*.geojson\")), key=lambda x: os.path.getsize(x))\n",
    "#print(len(geojson_files))\n",
    "# Iterate through each file\n",
    "for geojson_file in geojson_files:\n",
    "    \n",
    "    #print(geojson_file)\n",
    "    county_name = os.path.basename(geojson_file).split('_')[2].split('.')[0] + \"_County\"\n",
    "    print(f\"Processing: {county_name}\")\n",
    "\n",
    "    processing_filepath = processing + \"\\\\{}\".format(county_name)+\".txt\"\n",
    "    completed_filepath = completed + \"\\\\{}\".format(county_name)+\".txt\"\n",
    "    \n",
    "    # check if the file is being processed  \n",
    "    if os.path.exists(completed_filepath):\n",
    "        # check if you created the processing file\n",
    "        # we do this in case there was an error \n",
    "        # and you did not finihsed processing the file\n",
    "        # skip the file if you did not make it\n",
    "        with open(completed_filepath, 'r') as p:\n",
    "            p_user = p.read()\n",
    "        p.close()\n",
    "        print(\"**\"+county_name +\" was completed by: \" + p_user)\n",
    "        continue\n",
    "    elif os.path.exists(processing_filepath):\n",
    "        # check if you created the processing file\n",
    "        # we do this in case there was an error \n",
    "        # and you did not finihsed processing the file\n",
    "        # skip the file if you did not make it\n",
    "        with open(processing_filepath, 'r') as p:\n",
    "            p_user = p.read()\n",
    "        p.close()\n",
    "        if p_user != user:\n",
    "            print(\"--\"+county_name +\" is being processed by: \" + p_user)\n",
    "            continue\n",
    "    else:\n",
    "        #create a temp file \n",
    "        with open(processing_filepath, 'w') as t:\n",
    "            t.write(user)\n",
    "\n",
    "    \n",
    "    # Open the GeoJSON file\n",
    "    with open(geojson_file, 'r') as f:\n",
    "        data = json.load(f)\n",
    "    \n",
    "    dst  = os.path.join(img_path, county_name)\n",
    "    # Create images directory if it doesn't exist\n",
    "    os.makedirs(dst, exist_ok=True)\n",
    "    \n",
    "    # Get the checkpoint file for this GeoJSON file\n",
    "    checkpoint_file = working_directory_path +\"\\\\images\\\\{}\\\\checkpoint.txt\".format(county_name)\n",
    "    if os.path.exists(checkpoint_file):\n",
    "        with open(checkpoint_file, 'r') as f:\n",
    "            start_index = int(f.readline().strip())\n",
    "            print(\"Processed images: \" + str(start_index))\n",
    "    else:\n",
    "        start_index = 0\n",
    "\n",
    "    # Iterate through the features in the GeoJSON file\n",
    "    for num, feature in enumerate(tqdm(data['features'][start_index:], desc='Processing data')):\n",
    "        # Get the coordinates of the current feature\n",
    "        coordinates = feature['geometry']['coordinates']\n",
    "        i = num + start_index\n",
    "\n",
    "        # Format = [left longitude, right longitude, top latitude, bottom latitude]\n",
    "        square = get_square_bounds(coordinates)\n",
    "\n",
    "        filename = f\"{county_name}_task{i}.jpg\"\n",
    "\n",
    "        # Generate command\n",
    "        gmid_name = county_name + \"_\" + f\"task{i}.gmid\"\n",
    "        para2 = \"1\"\n",
    "        para3 = \"21\"\n",
    "        command = downloader_path + '\"'+gmid_name +'\\\" ' + para2 +\" \"+ para3 + \" \"+ square +' \"'+ temp +'\"'\n",
    "        # Call cmd and run downloader program\n",
    "        subprocess.run(command, stdout=subprocess.PIPE, stderr=subprocess.PIPE)\n",
    "\n",
    "        combine = combiner_path +'\"' + temp +\"\\\\\"+ gmid_name +\"\\\" jpg meters\"\n",
    "\n",
    "        # Call cmd and run combine program\n",
    "        subprocess.run(combine, stdout=subprocess.PIPE, stderr=subprocess.PIPE)\n",
    "\n",
    "        # Set the source and destination directories\n",
    "        name = county_name + f\"_task{i}\"\n",
    "        img  = name + \".jpg\"\n",
    "        src  = os.path.join(temp, name+\"_combined\")\n",
    "\n",
    "        # Set the source and destination file paths\n",
    "        src_file = os.path.join(src, img)\n",
    "        dst_file = os.path.join(dst, filename)\n",
    "\n",
    "        # Use the shutil module to move the file\n",
    "        shutil.move(src_file, dst_file)\n",
    "\n",
    "        # Clean\n",
    "        # -----Generate command to delete path\n",
    "        folder_path = os.path.join(temp, name)\n",
    "        combined_folder_path = os.path.join(temp, name+\"_combined\")\n",
    "\n",
    "        # -----Use the remove function to delete the path\n",
    "        shutil.rmtree(folder_path)\n",
    "        shutil.rmtree(combined_folder_path)\n",
    "\n",
    "        # Use glob to get a list of all the files in the directory\n",
    "        files   = glob.glob(os.path.join(temp, '*'))\n",
    "\n",
    "        # Iterate over the list of files and delete them one by one\n",
    "        for file in files:\n",
    "            if os.path.isfile(file):\n",
    "                # If it's a regular file, delete it\n",
    "                os.remove(file)\n",
    "            # Save the checkpoint\n",
    "        with open(checkpoint_file, 'w') as f:\n",
    "            f.write(str(num + start_index))\n",
    "    os.remove(processing_filepath)\n",
    "    with open(completed_filepath, 'w') as t:\n",
    "            t.write(user)"
   ]
  },
  {
   "cell_type": "code",
   "execution_count": null,
   "metadata": {},
   "outputs": [],
   "source": []
  }
 ],
 "metadata": {
  "colab": {
   "provenance": []
  },
  "kernelspec": {
   "display_name": "Python 3 (ipykernel)",
   "language": "python",
   "name": "python3"
  },
  "language_info": {
   "codemirror_mode": {
    "name": "ipython",
    "version": 3
   },
   "file_extension": ".py",
   "mimetype": "text/x-python",
   "name": "python",
   "nbconvert_exporter": "python",
   "pygments_lexer": "ipython3",
   "version": "3.10.8"
  }
 },
 "nbformat": 4,
 "nbformat_minor": 1
}
