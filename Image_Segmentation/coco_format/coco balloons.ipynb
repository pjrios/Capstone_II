{
 "cells": [
  {
   "cell_type": "code",
   "execution_count": 1,
   "id": "ddda2cb3",
   "metadata": {},
   "outputs": [
    {
     "name": "stdout",
     "output_type": "stream",
     "text": [
      "--Processing images:\n"
     ]
    },
    {
     "name": "stderr",
     "output_type": "stream",
     "text": [
      "100%|██████████| 3217/3217 [00:06<00:00, 509.57it/s]\n"
     ]
    },
    {
     "name": "stdout",
     "output_type": "stream",
     "text": [
      "Exporting to annotations-all.json.\n"
     ]
    }
   ],
   "source": [
    "import cv2\n",
    "import numpy as np\n",
    "import json\n",
    "import os\n",
    "from tqdm import tqdm\n",
    "\n",
    "# Define the path to the folder containing the masks\n",
    "mask_folder = 'C:\\\\Users\\\\pjrio\\\\Mask_RCNN\\\\dataset\\\\masks'\n",
    "# Load all of the masks in the folder\n",
    "mask_files = [f for f in os.listdir(mask_folder) if f.endswith('.jpg')]\n",
    "\n",
    "# Initialize the COCO format dataset\n",
    "coco_output = {}\n",
    "\n",
    "image_id = 0\n",
    "\n",
    "print(\"--Processing images:\")\n",
    "# Iterate over all of the masks\n",
    "for i, mask_file in tqdm(enumerate(mask_files), total=len(mask_files)):\n",
    "    # Get the image name without extension\n",
    "    image_name = os.path.splitext(mask_file)[0]\n",
    "    \n",
    "    # Iterate over all of the masks, Load the mask image and convert it to binary format, Find the contours of the objects in the binary mask\n",
    "    mask = cv2.imread(os.path.join(mask_folder, mask_file), cv2.IMREAD_GRAYSCALE)\n",
    "    mask = cv2.resize(mask, (256, 256))\n",
    "\n",
    "    _, binary_mask = cv2.threshold(mask, 127, 255, cv2.THRESH_BINARY)\n",
    "    \n",
    "    # Find the contours of the objects in the binary mask\n",
    "    contours, _ = cv2.findContours(binary_mask, cv2.RETR_EXTERNAL, cv2.CHAIN_APPROX_SIMPLE)\n",
    "    \n",
    "    region_id = 0\n",
    "    regions = {}\n",
    "    for j, contour in enumerate(contours):\n",
    "        contour = contour.flatten().tolist()\n",
    "        x = [point for point in contour[0::2]]\n",
    "        y = [point for point in contour[1::2]]\n",
    "        if len(x) < 2:\n",
    "            continue\n",
    "        region = {\n",
    "            \"region_attributes\": {},\n",
    "            \"shape_attributes\": {\n",
    "                \"all_points_x\": x,\n",
    "                \"all_points_y\": y,\n",
    "                \"name\": \"polygon\"\n",
    "            }\n",
    "        }\n",
    "        regions[str(region_id)] = region\n",
    "        region_id += 1\n",
    "     # Get the base file name without the \"_label\" suffix\n",
    "    base_filename, _ = os.path.splitext(mask_file)\n",
    "    base_filename = base_filename.replace(\"_label\", \"\")\n",
    "    \n",
    "    coco_output[image_name + mask_file] = {\n",
    "        \"fileref\": \"\",\n",
    "        \"size\": os.path.getsize(os.path.join(mask_folder, mask_file)),\n",
    "        \"filename\": f\"{base_filename}.jpg\",\n",
    "        \"base64_img_data\": \"\",\n",
    "        \"file_attributes\": {},\n",
    "        \"regions\": regions\n",
    "    }\n",
    "\n",
    "# Save the COCO format dataset to a JSON file\n",
    "print(\"Exporting to annotations-all.json.\")\n",
    "with open('annotations-all.json', 'w') as fp:\n",
    "    json.dump(coco_output, fp, indent=4, separators=(',', ': '))"
   ]
  },
  {
   "cell_type": "code",
   "execution_count": null,
   "id": "f9e0e775",
   "metadata": {},
   "outputs": [],
   "source": []
  }
 ],
 "metadata": {
  "kernelspec": {
   "display_name": "Python 3 (ipykernel)",
   "language": "python",
   "name": "python3"
  },
  "language_info": {
   "codemirror_mode": {
    "name": "ipython",
    "version": 3
   },
   "file_extension": ".py",
   "mimetype": "text/x-python",
   "name": "python",
   "nbconvert_exporter": "python",
   "pygments_lexer": "ipython3",
   "version": "3.10.9"
  }
 },
 "nbformat": 4,
 "nbformat_minor": 5
}
