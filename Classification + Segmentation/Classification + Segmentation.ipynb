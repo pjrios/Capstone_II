{
 "cells": [
  {
   "attachments": {},
   "cell_type": "markdown",
   "id": "9cd3025d",
   "metadata": {},
   "source": [
    "# Set Project Environment, Device, and Display"
   ]
  },
  {
   "cell_type": "code",
   "execution_count": 1,
   "id": "6db9a761",
   "metadata": {},
   "outputs": [
    {
     "name": "stdout",
     "output_type": "stream",
     "text": [
      "cuda\n"
     ]
    }
   ],
   "source": [
    "#!pip install ultralytics==8.0.20\n",
    "\n",
    "# Libraries and dependencies to install and import\n",
    "import torchvision.transforms as transforms\n",
    "from IPython.display import display, Image\n",
    "from PIL import UnidentifiedImageError\n",
    "import matplotlib.pyplot as plt\n",
    "from torchvision import models\n",
    "from ultralytics import YOLO\n",
    "from tqdm.notebook import tqdm\n",
    "import torch.nn as nn\n",
    "from PIL import Image\n",
    "import warnings\n",
    "import shutil\n",
    "import torch\n",
    "import math\n",
    "import csv\n",
    "import os\n",
    "import os.path as osp\n",
    "\n",
    "\n",
    "# Use cuda if a GPU is available on the device. Otherwise, use CPU only.\n",
    "device = torch.device('cuda') if torch.cuda.is_available() else torch.device('cpu')\n",
    "print('Device for the project:', device)\n",
    "\n",
    "# Settings for error display and plotting\n",
    "warnings.filterwarnings(\"ignore\")\n",
    "%matplotlib inline \n"
   ]
  },
  {
   "attachments": {},
   "cell_type": "markdown",
   "id": "c46b615c",
   "metadata": {},
   "source": [
    "# Set Model Versions and Path Directories"
   ]
  },
  {
   "cell_type": "code",
   "execution_count": 2,
   "id": "8020b951",
   "metadata": {},
   "outputs": [],
   "source": [
    "# Define solar panel classification and segmentation model versions\n",
    "classi_model        = \"model9\"\n",
    "seg_model           = \"model1\"\n",
    "\n",
    "# Set the EPSCoR state of interest and associated model task name\n",
    "state               = \"Arkansas\"\n",
    "project_name        = f\"{classi_model}inference\"\n",
    "\n",
    "# Set the path direcotry\n",
    "path = \"C:\\\\Users\\\\{your username}}\\\\\"\n",
    "\n",
    "# Path directories for the task of solar panel classification\n",
    "classi_output_path  = osp.join(path, project_name, \"\")\n",
    "classi_dir_path     = osp.join(path, \"counties\", \"\")\n",
    "classi_model_path   = osp.join(path, \"models\\\\classi\", classi_model+\".pt\")\n",
    "\n",
    "# Path directories for the task of solar panel segmentation\n",
    "seg_model_path      = osp.join(path, \"models\\\\seg\", seg_model+\".pt\")\n",
    "seg_result_file     = f\"{seg_model}_predictions.csv\"\n",
    "pred_file_path      = classi_output_path+f\"\\\\{seg_model}\"\n",
    "\n",
    "# Make directories for output directories\n",
    "os.makedirs(classi_output_path, exist_ok=True)\n",
    "os.makedirs(pred_file_path, exist_ok=True)"
   ]
  },
  {
   "cell_type": "code",
   "execution_count": 3,
   "id": "10e8ef57",
   "metadata": {},
   "outputs": [
    {
     "name": "stdout",
     "output_type": "stream",
     "text": [
      "C:\\Users\\pjrio\\model9inference\n",
      "C:\\Users\\pjrio\\model9inference\\model1\n",
      "results file: model1_predictions.csv\n"
     ]
    }
   ],
   "source": [
    "print('Directory for storing the solar panel classification result:', classi_output_path)\n",
    "print('Directory for storing the solar panel segmentation result:', pred_file_path)\n",
    "print(f\"Results file: {seg_result_file}\")"
   ]
  },
  {
   "attachments": {},
   "cell_type": "markdown",
   "id": "60b58ff4",
   "metadata": {},
   "source": [
    "# Utility Functions"
   ]
  },
  {
   "cell_type": "code",
   "execution_count": 4,
   "id": "815fbb63",
   "metadata": {},
   "outputs": [],
   "source": [
    "# For fine-tuning (not feature extraction), do not set 'requires_grad' to 'False' since all of the model's parameter must be loaded.\n",
    "def set_parameter_requires_grad(model, feature_extracting):\n",
    "    if feature_extracting:\n",
    "        for param in model.parameters():\n",
    "            param.requires_grad = False\n",
    "\n",
    "# Initialize the chosen pre-trained model parameters    \n",
    "def initialize_model(model_name, num_classes, feature_extract, use_pretrained=True):\n",
    "    model_ft = None\n",
    "    input_size = 0\n",
    "    #print('feature_extract:', feature_extract)\n",
    "    #print('model_name:', model_name)\n",
    "    #print('use_pretrained:', use_pretrained)\n",
    "    \n",
    "    if model_name == \"densenet\":\n",
    "        model_ft = models.densenet121(pretrained=use_pretrained)\n",
    "        set_parameter_requires_grad(model_ft, feature_extract)\n",
    "        num_ftrs = model_ft.classifier.in_features\n",
    "        model_ft.classifier = nn.Linear(num_ftrs, num_classes) \n",
    "        input_size = 224\n",
    "        \n",
    "    return model_ft, input_size\n",
    "\n",
    "# Set model name and number of classes\n",
    "model_name = \"densenet\"     # Other options: resnet, alexnet, vgg, squeezenet, inception\n",
    "num_classes = 2\n",
    "\n",
    "# Set model settings -- model extraction ('True') or fine-tuning ('False')\n",
    "feature_extract = False\n",
    "\n",
    "# Create an instance of the pre-trained model; get the model's input size\n",
    "model_ft, input_size = initialize_model(model_name, num_classes, feature_extract, use_pretrained=True)"
   ]
  },
  {
   "cell_type": "code",
   "execution_count": 5,
   "id": "f86373cf",
   "metadata": {},
   "outputs": [],
   "source": [
    "# Stores images from the residential building datasaet that are detected to have solar panels\n",
    "def infer(folder_path, destination_path, output_inference):\n",
    "    \n",
    "    if not os.path.exists(destination_path):\n",
    "          os.makedirs(destination_path)\n",
    "    else:\n",
    "        return\n",
    "    \n",
    "    # Create a list of image file names in the folder\n",
    "    image_filenames = [filename for filename in os.listdir(folder_path) if os.path.isfile(os.path.join(folder_path, filename))]\n",
    "\n",
    "    # Create a transform to resize and normalize the input images\n",
    "    transform = transforms.Compose([\n",
    "        transforms.Resize((224, 224)),\n",
    "        transforms.ToTensor(),\n",
    "        transforms.Normalize(mean=[0.485, 0.456, 0.406], std=[0.229, 0.224, 0.225])\n",
    "    ])\n",
    "    \n",
    "    solar_panels = []\n",
    "  \n",
    "    # Loop over the image filenames with the progress bar\n",
    "    #for filename in tqdm(image_filenames,desc='Images: '):\n",
    "    for filename in image_filenames:\n",
    "        try:\n",
    "            # Load the image and apply the transform\n",
    "            image_path   = os.path.join(folder_path, filename)\n",
    "            image        = Image.open(image_path)\n",
    "            input_tensor = transform(image).unsqueeze(0)\n",
    "\n",
    "            # Perform inference\n",
    "            with torch.no_grad():\n",
    "                output = model(input_tensor.to(device))\n",
    "\n",
    "            # Process the output and print the result\n",
    "            predicted_class = torch.argmax(output, dim=1).item()\n",
    "            if(output_inference):\n",
    "                print(f'{filename}: predicted class = {predicted_class}')\n",
    "\n",
    "            if(predicted_class==1):\n",
    "                solar_panels.append(filename)\n",
    "                source_image_path = os.path.join(folder_path, filename)\n",
    "                destination_image_path = os.path.join(destination_path, filename)\n",
    "                #print(filename)\n",
    "                #print(source_image_path)\n",
    "                #print(destination_image_path)\n",
    "                if not os.path.exists(destination_image_path):\n",
    "                    shutil.copy(source_image_path, destination_path)\n",
    "\n",
    "\n",
    "        except UnidentifiedImageError as e:\n",
    "            #print(f\"Error: Could not open image file {filename}. Skipping this file.\")\n",
    "            continue"
   ]
  },
  {
   "cell_type": "code",
   "execution_count": 6,
   "id": "1d46961e",
   "metadata": {},
   "outputs": [
    {
     "name": "stdout",
     "output_type": "stream",
     "text": [
      "0.0037619668420127116\n"
     ]
    }
   ],
   "source": [
    "# Determine the area of the segmentation (solar panels)\n",
    "def calculate_pixel_area():\n",
    "    latitude     = 34.7465     # center of arkansas latitude\n",
    "    zoom_level   = 21          # image zoom lvl\n",
    "    earth_radius = 6378137     # earth radius in meters\n",
    "    tile_size    = 256         # Google map's regular tile pixels size\n",
    "    meters_per_pixel = (math.cos(latitude * math.pi/180) * 2 * math.pi * earth_radius) / (tile_size * 2**zoom_level)\n",
    "    square_meters_per_pixel = meters_per_pixel**2\n",
    "    return square_meters_per_pixel\n",
    "\n",
    "pixel_area = calculate_pixel_area()\n",
    "print('Pixel Area:', pixel_area)"
   ]
  },
  {
   "cell_type": "code",
   "execution_count": 7,
   "id": "8cf0e70f",
   "metadata": {},
   "outputs": [
    {
     "name": "stdout",
     "output_type": "stream",
     "text": [
      "{'arkansas': '05001', 'ashley': '05003', 'baxter': '05005', 'benton': '05007', 'boone': '05009', 'bradley': '05011', 'calhoun': '05013', 'carroll': '05015', 'chicot': '05017', 'clark': '05019', 'clay': '05021', 'cleburne': '05023', 'cleveland': '05025', 'columbia': '05027', 'conway': '05029', 'craighead': '05031', 'crawford': '05033', 'crittenden': '05035', 'cross': '05037', 'dallas': '05039', 'desha': '05041', 'drew': '05043', 'faulkner': '05045', 'franklin': '05047', 'fulton': '05049', 'garland': '05051', 'grant': '05053', 'greene': '05055', 'hempstead': '05057', 'hot spring': '05059', 'howard': '05061', 'independence': '05063', 'izard': '05065', 'jackson': '05067', 'jefferson': '05069', 'johnson': '05071', 'lafayette': '05073', 'lawrence': '05075', 'lee': '05077', 'lincoln': '05079', 'little river': '05081', 'logan': '05083', 'lonoke': '05085', 'madison': '05087', 'marion': '05089', 'miller': '05091', 'mississippi': '05093', 'monroe': '05095', 'montgomery': '05097', 'nevada': '05099', 'newton': '05101', 'ouachita': '05103', 'perry': '05105', 'phillips': '05107', 'pike': '05109', 'poinsett': '05111', 'polk': '05113', 'pope': '05115', 'prairie': '05117', 'pulaski': '05119', 'randolph': '05121', 'st. francis': '05123', 'saline': '05125', 'scott': '05127', 'searcy': '05129', 'sebastian': '05131', 'sevier': '05133', 'sharp': '05135', 'stone': '05137', 'union': '05139', 'van buren': '05141', 'washington': '05143', 'white': '05145', 'woodruff': '05147', 'yell': '05149'}\n"
     ]
    }
   ],
   "source": [
    "# Load the data with the county name\n",
    "county_name_path = f\"C:\\\\Users\\\\pjrio\\\\tl_2020_05_bg\\\\merge\\\\{state}.txt\"\n",
    "county_numbers = {}\n",
    "with open(county_name_path) as f:\n",
    "    for line in f:\n",
    "        #print(line)\n",
    "        county_ab, state_number, county_number, county_name, something = line.strip().split(\",\")\n",
    "        county_numbers[county_name.replace(\" County\",\"\").lower()] = state_number + county_number\n",
    "#print(len(county_names))\n",
    "print('Number of Counties:',county_numbers)"
   ]
  },
  {
   "cell_type": "code",
   "execution_count": 8,
   "id": "a3d26d17",
   "metadata": {},
   "outputs": [
    {
     "name": "stdout",
     "output_type": "stream",
     "text": [
      "['Arkansas_County', 'Ashley_County', 'Baxter_County', 'Benton_County', 'Boone_County', 'Bradley_County', 'Calhoun_County', 'Carroll_County', 'Chicot_County', 'Clark_County', 'Clay_County', 'Cleburne_County', 'Cleveland_County', 'Columbia_County', 'Conway_County', 'Craighead_County', 'Crawford_County', 'Crittenden_County', 'Cross_County', 'Dallas_County', 'Desha_County', 'Drew_County', 'Faulkner_County', 'Franklin_County', 'Fulton_County', 'Garland_County', 'Grant_County', 'Greene_County', 'Hempstead_County', 'Hot Spring_County', 'Howard_County', 'Independence_County', 'Izard_County', 'Jackson_County', 'Jefferson_County', 'Johnson_County', 'Lafayette_County', 'Lawrence_County', 'Lee_County', 'Lincoln_County', 'Little River_County', 'Logan_County', 'Lonoke_County', 'Madison_County', 'Marion_County', 'Miller_County', 'Mississippi_County', 'Monroe_County', 'Montgomery_County', 'Nevada_County', 'Newton_County', 'Ouachita_County', 'Perry_County', 'Phillips_County', 'Pike_County', 'Poinsett_County', 'Polk_County', 'Pope_County', 'Prairie_County', 'Pulaski_County', 'Randolph_County', 'Saline_County', 'Scott_County', 'Searcy_County', 'Sebastian_County', 'Sevier_County', 'Sharp_County', 'Stone_County', 'Union_County', 'Van Buren_County', 'Washington_County', 'White_County', 'Woodruff_County', 'Yell_County']\n",
      "74\n"
     ]
    }
   ],
   "source": [
    "# Select working directories in case there you want to ignore or process specific dirs\n",
    "to_process = ['Jefferson_County','Woodruff_County']\n",
    "ignore     = ['Benton_County','Pulaski_County','Saline','Sebastian','Johnson_County', 'Lafayette_County', 'Lawrence_County', 'Lee_County', 'Lincoln_County', 'Little River_County', 'Logan_County', 'Lonoke_County', 'Madison_County', 'Marion_County', 'Miller_County', 'Mississippi_County', 'Monroe_County', 'Montgomery_County', 'Nevada_County', 'Newton_County', 'Ouachita_County', 'Perry_County', 'Phillips_County', 'Pike_County', 'Poinsett_County', 'Polk_County', 'Pope_County', 'Prairie_County', 'Pulaski_County', 'Randolph_County', 'Saline_County', 'Scott_County', 'Searcy_County', 'Sevier_County', 'Sharp_County', 'Stone_County', 'Union_County', 'Van Buren_County', 'Woodruff_County',\"Sebastian_County\",\"Faulkner_County\",\"Washington_County\", \"Garland_County\",\"White_County\",\"Yell_County\"]\n",
    "\n",
    "# select one of the options:\n",
    "# 1. get all subsiderectories from base dir\n",
    "subdirectories   = [name for name in os.listdir(classi_dir_path) if os.path.isdir(os.path.join(classi_dir_path, name))]\n",
    "# 2. get subdirectories  from base dir that are in the to_process list\n",
    "#subdirectories   = [name for name in os.listdir(classi_dir_path) if os.path.isdir(os.path.join(classi_dir_path, name)) and name in to_process]\n",
    "# 3. get subdirectories  from base dir that are not in the ignore list\n",
    "#subdirectories   = [name for name in os.listdir(classi_dir_path) if os.path.isdir(os.path.join(classi_dir_path, name)) and name not in ignore]\n",
    "\n",
    "print('County Subdirectories:',subdirectories)\n",
    "print('Number of Counties:', len(subdirectories))"
   ]
  },
  {
   "attachments": {},
   "cell_type": "markdown",
   "id": "ad065dae",
   "metadata": {},
   "source": [
    "# Solar Panel Classification"
   ]
  },
  {
   "cell_type": "code",
   "execution_count": null,
   "id": "0a1a065a",
   "metadata": {
    "scrolled": true
   },
   "outputs": [
    {
     "data": {
      "application/vnd.jupyter.widget-view+json": {
       "model_id": "c27a398ac3c64dae89813c9785d47965",
       "version_major": 2,
       "version_minor": 0
      },
      "text/plain": [
       "Processing counties:   0%|          | 0/74 [00:00<?, ?it/s]"
      ]
     },
     "metadata": {},
     "output_type": "display_data"
    },
    {
     "data": {
      "application/vnd.jupyter.widget-view+json": {
       "model_id": "c951f827629d4baa99e73cfa5adb6140",
       "version_major": 2,
       "version_minor": 0
      },
      "text/plain": [
       "Images:   0%|          | 0/1 [00:00<?, ?it/s]"
      ]
     },
     "metadata": {},
     "output_type": "display_data"
    },
    {
     "data": {
      "application/vnd.jupyter.widget-view+json": {
       "model_id": "fc181f80699d46089ef016ffa5e9794d",
       "version_major": 2,
       "version_minor": 0
      },
      "text/plain": [
       "Images:   0%|          | 0/1491 [00:00<?, ?it/s]"
      ]
     },
     "metadata": {},
     "output_type": "display_data"
    },
    {
     "data": {
      "application/vnd.jupyter.widget-view+json": {
       "model_id": "6366a18646f04eaea2815d6e23019f56",
       "version_major": 2,
       "version_minor": 0
      },
      "text/plain": [
       "Images:   0%|          | 0/2 [00:00<?, ?it/s]"
      ]
     },
     "metadata": {},
     "output_type": "display_data"
    },
    {
     "data": {
      "application/vnd.jupyter.widget-view+json": {
       "model_id": "b81e497559df42dfa9e051cf04a09442",
       "version_major": 2,
       "version_minor": 0
      },
      "text/plain": [
       "Images:   0%|          | 0/1825 [00:00<?, ?it/s]"
      ]
     },
     "metadata": {},
     "output_type": "display_data"
    },
    {
     "data": {
      "application/vnd.jupyter.widget-view+json": {
       "model_id": "948d7d83b06b46078f58730c802ae0ae",
       "version_major": 2,
       "version_minor": 0
      },
      "text/plain": [
       "Images:   0%|          | 0/525 [00:00<?, ?it/s]"
      ]
     },
     "metadata": {},
     "output_type": "display_data"
    },
    {
     "data": {
      "application/vnd.jupyter.widget-view+json": {
       "model_id": "84be35950b1f46afa571c287011c5701",
       "version_major": 2,
       "version_minor": 0
      },
      "text/plain": [
       "Images:   0%|          | 0/863 [00:00<?, ?it/s]"
      ]
     },
     "metadata": {},
     "output_type": "display_data"
    },
    {
     "data": {
      "application/vnd.jupyter.widget-view+json": {
       "model_id": "0a5b3d3ed5c7445eae328e0cb60f6fe9",
       "version_major": 2,
       "version_minor": 0
      },
      "text/plain": [
       "Images:   0%|          | 0/817 [00:00<?, ?it/s]"
      ]
     },
     "metadata": {},
     "output_type": "display_data"
    },
    {
     "data": {
      "application/vnd.jupyter.widget-view+json": {
       "model_id": "c533fa41b9a94a41bd4c54c0883e6b64",
       "version_major": 2,
       "version_minor": 0
      },
      "text/plain": [
       "Images:   0%|          | 0/402 [00:00<?, ?it/s]"
      ]
     },
     "metadata": {},
     "output_type": "display_data"
    },
    {
     "data": {
      "application/vnd.jupyter.widget-view+json": {
       "model_id": "7ac24668a97c4ad58144a08a2cf2419f",
       "version_major": 2,
       "version_minor": 0
      },
      "text/plain": [
       "Images:   0%|          | 0/621 [00:00<?, ?it/s]"
      ]
     },
     "metadata": {},
     "output_type": "display_data"
    },
    {
     "data": {
      "application/vnd.jupyter.widget-view+json": {
       "model_id": "e62c35be54d346679ac6862222392d48",
       "version_major": 2,
       "version_minor": 0
      },
      "text/plain": [
       "Images:   0%|          | 0/917 [00:00<?, ?it/s]"
      ]
     },
     "metadata": {},
     "output_type": "display_data"
    },
    {
     "data": {
      "application/vnd.jupyter.widget-view+json": {
       "model_id": "3b7ad06002a746698dfae506d27d31d3",
       "version_major": 2,
       "version_minor": 0
      },
      "text/plain": [
       "Images:   0%|          | 0/359 [00:00<?, ?it/s]"
      ]
     },
     "metadata": {},
     "output_type": "display_data"
    },
    {
     "data": {
      "application/vnd.jupyter.widget-view+json": {
       "model_id": "d8253293e30e4830addc174acd32405f",
       "version_major": 2,
       "version_minor": 0
      },
      "text/plain": [
       "Images:   0%|          | 0/1040 [00:00<?, ?it/s]"
      ]
     },
     "metadata": {},
     "output_type": "display_data"
    },
    {
     "data": {
      "application/vnd.jupyter.widget-view+json": {
       "model_id": "b4361a698a8b42f4bc2f6eac18723c8b",
       "version_major": 2,
       "version_minor": 0
      },
      "text/plain": [
       "Images:   0%|          | 0/618 [00:00<?, ?it/s]"
      ]
     },
     "metadata": {},
     "output_type": "display_data"
    },
    {
     "data": {
      "application/vnd.jupyter.widget-view+json": {
       "model_id": "adf006e87ab043d5a27cb97098090b50",
       "version_major": 2,
       "version_minor": 0
      },
      "text/plain": [
       "Images:   0%|          | 0/1083 [00:00<?, ?it/s]"
      ]
     },
     "metadata": {},
     "output_type": "display_data"
    },
    {
     "data": {
      "application/vnd.jupyter.widget-view+json": {
       "model_id": "290e3297ea2542e1b05e6ad73829548e",
       "version_major": 2,
       "version_minor": 0
      },
      "text/plain": [
       "Images:   0%|          | 0/1139 [00:00<?, ?it/s]"
      ]
     },
     "metadata": {},
     "output_type": "display_data"
    },
    {
     "data": {
      "application/vnd.jupyter.widget-view+json": {
       "model_id": "8ede06c208734f26860db8192f8a9a92",
       "version_major": 2,
       "version_minor": 0
      },
      "text/plain": [
       "Images:   0%|          | 0/438 [00:00<?, ?it/s]"
      ]
     },
     "metadata": {},
     "output_type": "display_data"
    },
    {
     "data": {
      "application/vnd.jupyter.widget-view+json": {
       "model_id": "a17cc92178a348e5a570a46a646194c7",
       "version_major": 2,
       "version_minor": 0
      },
      "text/plain": [
       "Images:   0%|          | 0/1 [00:00<?, ?it/s]"
      ]
     },
     "metadata": {},
     "output_type": "display_data"
    },
    {
     "data": {
      "application/vnd.jupyter.widget-view+json": {
       "model_id": "9f49db87267c4453b05756e2d7207c8b",
       "version_major": 2,
       "version_minor": 0
      },
      "text/plain": [
       "Images:   0%|          | 0/20 [00:00<?, ?it/s]"
      ]
     },
     "metadata": {},
     "output_type": "display_data"
    },
    {
     "data": {
      "application/vnd.jupyter.widget-view+json": {
       "model_id": "71bed1677c734a1c8388a4e81e353a09",
       "version_major": 2,
       "version_minor": 0
      },
      "text/plain": [
       "Images:   0%|          | 0/1 [00:00<?, ?it/s]"
      ]
     },
     "metadata": {},
     "output_type": "display_data"
    },
    {
     "data": {
      "application/vnd.jupyter.widget-view+json": {
       "model_id": "586f8be3af7941c5bc475e3e5a838c45",
       "version_major": 2,
       "version_minor": 0
      },
      "text/plain": [
       "Images:   0%|          | 0/869 [00:00<?, ?it/s]"
      ]
     },
     "metadata": {},
     "output_type": "display_data"
    },
    {
     "data": {
      "application/vnd.jupyter.widget-view+json": {
       "model_id": "fd7b3eda54e4485baf7e7c6d46571bc5",
       "version_major": 2,
       "version_minor": 0
      },
      "text/plain": [
       "Images:   0%|          | 0/531 [00:00<?, ?it/s]"
      ]
     },
     "metadata": {},
     "output_type": "display_data"
    },
    {
     "data": {
      "application/vnd.jupyter.widget-view+json": {
       "model_id": "b8505bb533f84ee69bbbd22afad5f04e",
       "version_major": 2,
       "version_minor": 0
      },
      "text/plain": [
       "Images:   0%|          | 0/775 [00:00<?, ?it/s]"
      ]
     },
     "metadata": {},
     "output_type": "display_data"
    },
    {
     "data": {
      "application/vnd.jupyter.widget-view+json": {
       "model_id": "802741a82f47470c832f58aaf26a4b54",
       "version_major": 2,
       "version_minor": 0
      },
      "text/plain": [
       "Images:   0%|          | 0/1123 [00:00<?, ?it/s]"
      ]
     },
     "metadata": {},
     "output_type": "display_data"
    },
    {
     "data": {
      "application/vnd.jupyter.widget-view+json": {
       "model_id": "602e4c0895b24f9ca0363620e7f1200b",
       "version_major": 2,
       "version_minor": 0
      },
      "text/plain": [
       "Images:   0%|          | 0/398 [00:00<?, ?it/s]"
      ]
     },
     "metadata": {},
     "output_type": "display_data"
    },
    {
     "data": {
      "application/vnd.jupyter.widget-view+json": {
       "model_id": "e297f7d1dd174c26b36a11f8681c4f73",
       "version_major": 2,
       "version_minor": 0
      },
      "text/plain": [
       "Images:   0%|          | 0/467 [00:00<?, ?it/s]"
      ]
     },
     "metadata": {},
     "output_type": "display_data"
    },
    {
     "data": {
      "application/vnd.jupyter.widget-view+json": {
       "model_id": "8d3c9ce3d6f74798bc25940d845d9b44",
       "version_major": 2,
       "version_minor": 0
      },
      "text/plain": [
       "Images:   0%|          | 0/1025 [00:00<?, ?it/s]"
      ]
     },
     "metadata": {},
     "output_type": "display_data"
    },
    {
     "data": {
      "application/vnd.jupyter.widget-view+json": {
       "model_id": "54159741aefd48cb8e41122647043320",
       "version_major": 2,
       "version_minor": 0
      },
      "text/plain": [
       "Images:   0%|          | 0/568 [00:00<?, ?it/s]"
      ]
     },
     "metadata": {},
     "output_type": "display_data"
    },
    {
     "data": {
      "application/vnd.jupyter.widget-view+json": {
       "model_id": "2541c08089af4a888c44bcc76b5b1c4d",
       "version_major": 2,
       "version_minor": 0
      },
      "text/plain": [
       "Images:   0%|          | 0/819 [00:00<?, ?it/s]"
      ]
     },
     "metadata": {},
     "output_type": "display_data"
    },
    {
     "data": {
      "application/vnd.jupyter.widget-view+json": {
       "model_id": "76fb391f42dc47eba3d1e312ddcf0bba",
       "version_major": 2,
       "version_minor": 0
      },
      "text/plain": [
       "Images:   0%|          | 0/430 [00:00<?, ?it/s]"
      ]
     },
     "metadata": {},
     "output_type": "display_data"
    },
    {
     "data": {
      "application/vnd.jupyter.widget-view+json": {
       "model_id": "2ba4511e0a634670b8f1a2ca705c6e3d",
       "version_major": 2,
       "version_minor": 0
      },
      "text/plain": [
       "Images:   0%|          | 0/458 [00:00<?, ?it/s]"
      ]
     },
     "metadata": {},
     "output_type": "display_data"
    },
    {
     "data": {
      "application/vnd.jupyter.widget-view+json": {
       "model_id": "a879cbfd0c8544ddb74d7c2d7ba06661",
       "version_major": 2,
       "version_minor": 0
      },
      "text/plain": [
       "Images:   0%|          | 0/277 [00:00<?, ?it/s]"
      ]
     },
     "metadata": {},
     "output_type": "display_data"
    },
    {
     "data": {
      "application/vnd.jupyter.widget-view+json": {
       "model_id": "faa0790e45b940b689a587ec26c69002",
       "version_major": 2,
       "version_minor": 0
      },
      "text/plain": [
       "Images:   0%|          | 0/578 [00:00<?, ?it/s]"
      ]
     },
     "metadata": {},
     "output_type": "display_data"
    },
    {
     "data": {
      "application/vnd.jupyter.widget-view+json": {
       "model_id": "c08a9ae3476648d6808b45b7d77253bc",
       "version_major": 2,
       "version_minor": 0
      },
      "text/plain": [
       "Images:   0%|          | 0/314 [00:00<?, ?it/s]"
      ]
     },
     "metadata": {},
     "output_type": "display_data"
    },
    {
     "data": {
      "application/vnd.jupyter.widget-view+json": {
       "model_id": "f71270acc420416d801b4ecd94fa59fd",
       "version_major": 2,
       "version_minor": 0
      },
      "text/plain": [
       "Images:   0%|          | 0/836 [00:00<?, ?it/s]"
      ]
     },
     "metadata": {},
     "output_type": "display_data"
    },
    {
     "data": {
      "application/vnd.jupyter.widget-view+json": {
       "model_id": "7df4da0598134e17886c971b43de7658",
       "version_major": 2,
       "version_minor": 0
      },
      "text/plain": [
       "Images:   0%|          | 0/384 [00:00<?, ?it/s]"
      ]
     },
     "metadata": {},
     "output_type": "display_data"
    },
    {
     "data": {
      "application/vnd.jupyter.widget-view+json": {
       "model_id": "59cab8e14a204785a60060f7ced65c59",
       "version_major": 2,
       "version_minor": 0
      },
      "text/plain": [
       "Images:   0%|          | 0/484 [00:00<?, ?it/s]"
      ]
     },
     "metadata": {},
     "output_type": "display_data"
    },
    {
     "data": {
      "application/vnd.jupyter.widget-view+json": {
       "model_id": "e10d01ae962049c2bd36207f42cc2301",
       "version_major": 2,
       "version_minor": 0
      },
      "text/plain": [
       "Images:   0%|          | 0/363 [00:00<?, ?it/s]"
      ]
     },
     "metadata": {},
     "output_type": "display_data"
    },
    {
     "data": {
      "application/vnd.jupyter.widget-view+json": {
       "model_id": "ee64bce7232c409590b182503a260ca3",
       "version_major": 2,
       "version_minor": 0
      },
      "text/plain": [
       "Images:   0%|          | 0/447 [00:00<?, ?it/s]"
      ]
     },
     "metadata": {},
     "output_type": "display_data"
    },
    {
     "data": {
      "application/vnd.jupyter.widget-view+json": {
       "model_id": "3750a6981f7a414caaa74e0ae7c7d04d",
       "version_major": 2,
       "version_minor": 0
      },
      "text/plain": [
       "Images:   0%|          | 0/566 [00:00<?, ?it/s]"
      ]
     },
     "metadata": {},
     "output_type": "display_data"
    },
    {
     "data": {
      "application/vnd.jupyter.widget-view+json": {
       "model_id": "7715499d456a4666bdd331dc015490ca",
       "version_major": 2,
       "version_minor": 0
      },
      "text/plain": [
       "Images:   0%|          | 0/635 [00:00<?, ?it/s]"
      ]
     },
     "metadata": {},
     "output_type": "display_data"
    },
    {
     "data": {
      "application/vnd.jupyter.widget-view+json": {
       "model_id": "6c2e18f282ac4bcab45b4cdf2d67aec7",
       "version_major": 2,
       "version_minor": 0
      },
      "text/plain": [
       "Images:   0%|          | 0/500 [00:00<?, ?it/s]"
      ]
     },
     "metadata": {},
     "output_type": "display_data"
    },
    {
     "data": {
      "application/vnd.jupyter.widget-view+json": {
       "model_id": "0f631877148e4daaa6c20eb644eff6ea",
       "version_major": 2,
       "version_minor": 0
      },
      "text/plain": [
       "Images:   0%|          | 0/801 [00:00<?, ?it/s]"
      ]
     },
     "metadata": {},
     "output_type": "display_data"
    },
    {
     "data": {
      "application/vnd.jupyter.widget-view+json": {
       "model_id": "f37a41e9987440a8bd116ce15a7526f8",
       "version_major": 2,
       "version_minor": 0
      },
      "text/plain": [
       "Images:   0%|          | 0/682 [00:00<?, ?it/s]"
      ]
     },
     "metadata": {},
     "output_type": "display_data"
    },
    {
     "data": {
      "application/vnd.jupyter.widget-view+json": {
       "model_id": "792df24d7cf747f0a96be57954d52a8a",
       "version_major": 2,
       "version_minor": 0
      },
      "text/plain": [
       "Images:   0%|          | 0/673 [00:00<?, ?it/s]"
      ]
     },
     "metadata": {},
     "output_type": "display_data"
    },
    {
     "data": {
      "application/vnd.jupyter.widget-view+json": {
       "model_id": "9fd4ba546212487c84cf7c559f52d797",
       "version_major": 2,
       "version_minor": 0
      },
      "text/plain": [
       "Images:   0%|          | 0/894 [00:00<?, ?it/s]"
      ]
     },
     "metadata": {},
     "output_type": "display_data"
    },
    {
     "data": {
      "application/vnd.jupyter.widget-view+json": {
       "model_id": "d99a181f79044d9c9d6d698352aa48fd",
       "version_major": 2,
       "version_minor": 0
      },
      "text/plain": [
       "Images:   0%|          | 0/1073 [00:00<?, ?it/s]"
      ]
     },
     "metadata": {},
     "output_type": "display_data"
    },
    {
     "data": {
      "application/vnd.jupyter.widget-view+json": {
       "model_id": "757c65ea467b4b71a408f54b9134a733",
       "version_major": 2,
       "version_minor": 0
      },
      "text/plain": [
       "Images:   0%|          | 0/665 [00:00<?, ?it/s]"
      ]
     },
     "metadata": {},
     "output_type": "display_data"
    },
    {
     "data": {
      "application/vnd.jupyter.widget-view+json": {
       "model_id": "9ffe7b32ea0a424a9803d6def51f52a2",
       "version_major": 2,
       "version_minor": 0
      },
      "text/plain": [
       "Images:   0%|          | 0/914 [00:00<?, ?it/s]"
      ]
     },
     "metadata": {},
     "output_type": "display_data"
    },
    {
     "data": {
      "application/vnd.jupyter.widget-view+json": {
       "model_id": "49962298f4f04be0a83659309c12adcb",
       "version_major": 2,
       "version_minor": 0
      },
      "text/plain": [
       "Images:   0%|          | 0/998 [00:00<?, ?it/s]"
      ]
     },
     "metadata": {},
     "output_type": "display_data"
    },
    {
     "data": {
      "application/vnd.jupyter.widget-view+json": {
       "model_id": "7f068e8dbd5a4775b75b1429ee839715",
       "version_major": 2,
       "version_minor": 0
      },
      "text/plain": [
       "Images:   0%|          | 0/718 [00:00<?, ?it/s]"
      ]
     },
     "metadata": {},
     "output_type": "display_data"
    },
    {
     "data": {
      "application/vnd.jupyter.widget-view+json": {
       "model_id": "c64480f95ab94c318e53c729f7b912f0",
       "version_major": 2,
       "version_minor": 0
      },
      "text/plain": [
       "Images:   0%|          | 0/1082 [00:00<?, ?it/s]"
      ]
     },
     "metadata": {},
     "output_type": "display_data"
    },
    {
     "data": {
      "application/vnd.jupyter.widget-view+json": {
       "model_id": "0bcf91c63b71426f8b93e70c66d06117",
       "version_major": 2,
       "version_minor": 0
      },
      "text/plain": [
       "Images:   0%|          | 0/1095 [00:00<?, ?it/s]"
      ]
     },
     "metadata": {},
     "output_type": "display_data"
    },
    {
     "data": {
      "application/vnd.jupyter.widget-view+json": {
       "model_id": "8f91fdf85f2c440e8573dadb9d2f2ec0",
       "version_major": 2,
       "version_minor": 0
      },
      "text/plain": [
       "Images:   0%|          | 0/862 [00:00<?, ?it/s]"
      ]
     },
     "metadata": {},
     "output_type": "display_data"
    },
    {
     "data": {
      "application/vnd.jupyter.widget-view+json": {
       "model_id": "8783101e744b48bc951409a49b0fb074",
       "version_major": 2,
       "version_minor": 0
      },
      "text/plain": [
       "Images:   0%|          | 0/1078 [00:00<?, ?it/s]"
      ]
     },
     "metadata": {},
     "output_type": "display_data"
    },
    {
     "data": {
      "application/vnd.jupyter.widget-view+json": {
       "model_id": "97187351b55e4b6d9a4aaa84ed0b5683",
       "version_major": 2,
       "version_minor": 0
      },
      "text/plain": [
       "Images:   0%|          | 0/1241 [00:00<?, ?it/s]"
      ]
     },
     "metadata": {},
     "output_type": "display_data"
    },
    {
     "data": {
      "application/vnd.jupyter.widget-view+json": {
       "model_id": "5d116c940b4b4a4bab2b620ca5f06120",
       "version_major": 2,
       "version_minor": 0
      },
      "text/plain": [
       "Images:   0%|          | 0/1695 [00:00<?, ?it/s]"
      ]
     },
     "metadata": {},
     "output_type": "display_data"
    },
    {
     "data": {
      "application/vnd.jupyter.widget-view+json": {
       "model_id": "43774fcaf3894bb2a661ad96131cca8b",
       "version_major": 2,
       "version_minor": 0
      },
      "text/plain": [
       "Images:   0%|          | 0/1330 [00:00<?, ?it/s]"
      ]
     },
     "metadata": {},
     "output_type": "display_data"
    },
    {
     "data": {
      "application/vnd.jupyter.widget-view+json": {
       "model_id": "12df8403821b491aa7e257996763f89d",
       "version_major": 2,
       "version_minor": 0
      },
      "text/plain": [
       "Images:   0%|          | 0/611 [00:00<?, ?it/s]"
      ]
     },
     "metadata": {},
     "output_type": "display_data"
    },
    {
     "data": {
      "application/vnd.jupyter.widget-view+json": {
       "model_id": "d7b80e9422db4c5aa9f2ae7b5f0dd035",
       "version_major": 2,
       "version_minor": 0
      },
      "text/plain": [
       "Images:   0%|          | 0/868 [00:00<?, ?it/s]"
      ]
     },
     "metadata": {},
     "output_type": "display_data"
    },
    {
     "data": {
      "application/vnd.jupyter.widget-view+json": {
       "model_id": "197dd73255e141868c097581ed45e893",
       "version_major": 2,
       "version_minor": 0
      },
      "text/plain": [
       "Images:   0%|          | 0/782 [00:00<?, ?it/s]"
      ]
     },
     "metadata": {},
     "output_type": "display_data"
    },
    {
     "data": {
      "application/vnd.jupyter.widget-view+json": {
       "model_id": "51f10c0495074f0ab17da66aa5dab778",
       "version_major": 2,
       "version_minor": 0
      },
      "text/plain": [
       "Images:   0%|          | 0/1545 [00:00<?, ?it/s]"
      ]
     },
     "metadata": {},
     "output_type": "display_data"
    },
    {
     "data": {
      "application/vnd.jupyter.widget-view+json": {
       "model_id": "82dcafb31dd249f4ba54e77f287102c8",
       "version_major": 2,
       "version_minor": 0
      },
      "text/plain": [
       "Images:   0%|          | 0/971 [00:00<?, ?it/s]"
      ]
     },
     "metadata": {},
     "output_type": "display_data"
    },
    {
     "data": {
      "application/vnd.jupyter.widget-view+json": {
       "model_id": "18d8251125c34ae58ef19033366d17bd",
       "version_major": 2,
       "version_minor": 0
      },
      "text/plain": [
       "Images:   0%|          | 0/1544 [00:00<?, ?it/s]"
      ]
     },
     "metadata": {},
     "output_type": "display_data"
    },
    {
     "data": {
      "application/vnd.jupyter.widget-view+json": {
       "model_id": "5aa754a3a3e2433889e61e4424fe2d09",
       "version_major": 2,
       "version_minor": 0
      },
      "text/plain": [
       "Images:   0%|          | 0/793 [00:00<?, ?it/s]"
      ]
     },
     "metadata": {},
     "output_type": "display_data"
    },
    {
     "data": {
      "application/vnd.jupyter.widget-view+json": {
       "model_id": "100c3f99406d4983b1d074da6fd9ef0e",
       "version_major": 2,
       "version_minor": 0
      },
      "text/plain": [
       "Images:   0%|          | 0/1396 [00:00<?, ?it/s]"
      ]
     },
     "metadata": {},
     "output_type": "display_data"
    },
    {
     "data": {
      "application/vnd.jupyter.widget-view+json": {
       "model_id": "1be964a47cae41abb92a5549a9603196",
       "version_major": 2,
       "version_minor": 0
      },
      "text/plain": [
       "Images:   0%|          | 0/1158 [00:00<?, ?it/s]"
      ]
     },
     "metadata": {},
     "output_type": "display_data"
    },
    {
     "data": {
      "application/vnd.jupyter.widget-view+json": {
       "model_id": "55fb2de2021e4f628c491364ae643002",
       "version_major": 2,
       "version_minor": 0
      },
      "text/plain": [
       "Images:   0%|          | 0/549 [00:00<?, ?it/s]"
      ]
     },
     "metadata": {},
     "output_type": "display_data"
    },
    {
     "data": {
      "application/vnd.jupyter.widget-view+json": {
       "model_id": "342a09f7d60649aaa1e91bd029ffc91d",
       "version_major": 2,
       "version_minor": 0
      },
      "text/plain": [
       "Images:   0%|          | 0/923 [00:00<?, ?it/s]"
      ]
     },
     "metadata": {},
     "output_type": "display_data"
    },
    {
     "data": {
      "application/vnd.jupyter.widget-view+json": {
       "model_id": "a2203373317c436f96ba79cf06cb8171",
       "version_major": 2,
       "version_minor": 0
      },
      "text/plain": [
       "Images:   0%|          | 0/1038 [00:00<?, ?it/s]"
      ]
     },
     "metadata": {},
     "output_type": "display_data"
    },
    {
     "data": {
      "application/vnd.jupyter.widget-view+json": {
       "model_id": "010db479f4e04af1be81bd0dc79ddfaa",
       "version_major": 2,
       "version_minor": 0
      },
      "text/plain": [
       "Images:   0%|          | 0/301 [00:00<?, ?it/s]"
      ]
     },
     "metadata": {},
     "output_type": "display_data"
    },
    {
     "data": {
      "application/vnd.jupyter.widget-view+json": {
       "model_id": "890c82d825f54cc4a02a0096cd126289",
       "version_major": 2,
       "version_minor": 0
      },
      "text/plain": [
       "Images:   0%|          | 0/209 [00:00<?, ?it/s]"
      ]
     },
     "metadata": {},
     "output_type": "display_data"
    },
    {
     "data": {
      "application/vnd.jupyter.widget-view+json": {
       "model_id": "1c8e25ae7aee4c298033cbf8c26af7d7",
       "version_major": 2,
       "version_minor": 0
      },
      "text/plain": [
       "Images:   0%|          | 0/231 [00:00<?, ?it/s]"
      ]
     },
     "metadata": {},
     "output_type": "display_data"
    },
    {
     "data": {
      "application/vnd.jupyter.widget-view+json": {
       "model_id": "4bdb4e7139704b04b04668fafa61f2bf",
       "version_major": 2,
       "version_minor": 0
      },
      "text/plain": [
       "Images:   0%|          | 0/155 [00:00<?, ?it/s]"
      ]
     },
     "metadata": {},
     "output_type": "display_data"
    },
    {
     "data": {
      "application/vnd.jupyter.widget-view+json": {
       "model_id": "b10e1850ba4e4ff48776023bd2e385cb",
       "version_major": 2,
       "version_minor": 0
      },
      "text/plain": [
       "Images:   0%|          | 0/327 [00:00<?, ?it/s]"
      ]
     },
     "metadata": {},
     "output_type": "display_data"
    },
    {
     "data": {
      "application/vnd.jupyter.widget-view+json": {
       "model_id": "9db9097c1a2140bf88de1cd47665bca9",
       "version_major": 2,
       "version_minor": 0
      },
      "text/plain": [
       "Images:   0%|          | 0/165 [00:00<?, ?it/s]"
      ]
     },
     "metadata": {},
     "output_type": "display_data"
    },
    {
     "data": {
      "application/vnd.jupyter.widget-view+json": {
       "model_id": "73e881f7536849caa53e4f79110dcfe1",
       "version_major": 2,
       "version_minor": 0
      },
      "text/plain": [
       "Images:   0%|          | 0/158 [00:00<?, ?it/s]"
      ]
     },
     "metadata": {},
     "output_type": "display_data"
    },
    {
     "data": {
      "application/vnd.jupyter.widget-view+json": {
       "model_id": "fe2d1129ee8f4d35a77e1e8a2d3ad987",
       "version_major": 2,
       "version_minor": 0
      },
      "text/plain": [
       "Images:   0%|          | 0/253 [00:00<?, ?it/s]"
      ]
     },
     "metadata": {},
     "output_type": "display_data"
    },
    {
     "data": {
      "application/vnd.jupyter.widget-view+json": {
       "model_id": "21a6709f13864c8987dd20a9f72c8caf",
       "version_major": 2,
       "version_minor": 0
      },
      "text/plain": [
       "Images:   0%|          | 0/119 [00:00<?, ?it/s]"
      ]
     },
     "metadata": {},
     "output_type": "display_data"
    },
    {
     "data": {
      "application/vnd.jupyter.widget-view+json": {
       "model_id": "61b54388426b476c9efabb6746688767",
       "version_major": 2,
       "version_minor": 0
      },
      "text/plain": [
       "Images:   0%|          | 0/227 [00:00<?, ?it/s]"
      ]
     },
     "metadata": {},
     "output_type": "display_data"
    },
    {
     "data": {
      "application/vnd.jupyter.widget-view+json": {
       "model_id": "241c3bd844074316b509279dc37aa3c5",
       "version_major": 2,
       "version_minor": 0
      },
      "text/plain": [
       "Images:   0%|          | 0/136 [00:00<?, ?it/s]"
      ]
     },
     "metadata": {},
     "output_type": "display_data"
    },
    {
     "data": {
      "application/vnd.jupyter.widget-view+json": {
       "model_id": "88d67af6a9f04d138fff824e0465e796",
       "version_major": 2,
       "version_minor": 0
      },
      "text/plain": [
       "Images:   0%|          | 0/199 [00:00<?, ?it/s]"
      ]
     },
     "metadata": {},
     "output_type": "display_data"
    },
    {
     "data": {
      "application/vnd.jupyter.widget-view+json": {
       "model_id": "0ae297e6785f4f3d9928e811be572e26",
       "version_major": 2,
       "version_minor": 0
      },
      "text/plain": [
       "Images:   0%|          | 0/133 [00:00<?, ?it/s]"
      ]
     },
     "metadata": {},
     "output_type": "display_data"
    },
    {
     "data": {
      "application/vnd.jupyter.widget-view+json": {
       "model_id": "5200b58ab32d42b0b8693f62d121b2e4",
       "version_major": 2,
       "version_minor": 0
      },
      "text/plain": [
       "Images:   0%|          | 0/172 [00:00<?, ?it/s]"
      ]
     },
     "metadata": {},
     "output_type": "display_data"
    },
    {
     "data": {
      "application/vnd.jupyter.widget-view+json": {
       "model_id": "5b2c9b85a6b64c05b5d71e2ea32c3868",
       "version_major": 2,
       "version_minor": 0
      },
      "text/plain": [
       "Images:   0%|          | 0/106 [00:00<?, ?it/s]"
      ]
     },
     "metadata": {},
     "output_type": "display_data"
    },
    {
     "data": {
      "application/vnd.jupyter.widget-view+json": {
       "model_id": "d0491a5608c142e5bc676be5778a5093",
       "version_major": 2,
       "version_minor": 0
      },
      "text/plain": [
       "Images:   0%|          | 0/201 [00:00<?, ?it/s]"
      ]
     },
     "metadata": {},
     "output_type": "display_data"
    },
    {
     "data": {
      "application/vnd.jupyter.widget-view+json": {
       "model_id": "6567d14de0a9464fb09c0a23b85da185",
       "version_major": 2,
       "version_minor": 0
      },
      "text/plain": [
       "Images:   0%|          | 0/195 [00:00<?, ?it/s]"
      ]
     },
     "metadata": {},
     "output_type": "display_data"
    },
    {
     "data": {
      "application/vnd.jupyter.widget-view+json": {
       "model_id": "544e7e0aebbb4af7bf391fa6193bf395",
       "version_major": 2,
       "version_minor": 0
      },
      "text/plain": [
       "Images:   0%|          | 0/123 [00:00<?, ?it/s]"
      ]
     },
     "metadata": {},
     "output_type": "display_data"
    },
    {
     "data": {
      "application/vnd.jupyter.widget-view+json": {
       "model_id": "23339aaddb39464db30933e04c55e5d5",
       "version_major": 2,
       "version_minor": 0
      },
      "text/plain": [
       "Images:   0%|          | 0/128 [00:00<?, ?it/s]"
      ]
     },
     "metadata": {},
     "output_type": "display_data"
    },
    {
     "data": {
      "application/vnd.jupyter.widget-view+json": {
       "model_id": "b9d77f5993304921ac37a38bbcb828b1",
       "version_major": 2,
       "version_minor": 0
      },
      "text/plain": [
       "Images:   0%|          | 0/102 [00:00<?, ?it/s]"
      ]
     },
     "metadata": {},
     "output_type": "display_data"
    },
    {
     "data": {
      "application/vnd.jupyter.widget-view+json": {
       "model_id": "855f1ec92c4e4a87b1959628c040a6ac",
       "version_major": 2,
       "version_minor": 0
      },
      "text/plain": [
       "Images:   0%|          | 0/94 [00:00<?, ?it/s]"
      ]
     },
     "metadata": {},
     "output_type": "display_data"
    },
    {
     "data": {
      "application/vnd.jupyter.widget-view+json": {
       "model_id": "9325fae83fb44ffcab9e47c437657675",
       "version_major": 2,
       "version_minor": 0
      },
      "text/plain": [
       "Images:   0%|          | 0/91 [00:00<?, ?it/s]"
      ]
     },
     "metadata": {},
     "output_type": "display_data"
    }
   ],
   "source": [
    "# Display image inference\n",
    "output_inference  = False\n",
    "\n",
    "# Load the saved model\n",
    "saved_model = torch.load(classi_model_path)\n",
    "\n",
    "# Create a new model instance and load the saved model's state dictionary\n",
    "model,_ = initialize_model(model_name, num_classes, feature_extract=False, use_pretrained=False)\n",
    "model.load_state_dict(saved_model)\n",
    "\n",
    "# Set the device for the model\n",
    "model = model.to(device)\n",
    "\n",
    "# Set the model to evaluation mode\n",
    "model.eval()\n",
    "    \n",
    "# Perform solar panel classification by subdirectories\n",
    "for subdirectory in tqdm(subdirectories, desc='Processing counties: '):  \n",
    "#         print(subdirectory)\n",
    "        tract_dir = classi_dir_path+f\"\\\\{subdirectory}\"\n",
    "        tracts   = [name for name in os.listdir(tract_dir) if os.path.isdir(os.path.join(tract_dir, name))]\n",
    "        for tract in tracts:\n",
    "#             print(\"\\t\",tract)\n",
    "            blkgps_dir = tract_dir + f\"\\\\{tract}\"\n",
    "            blkgps   = [name for name in os.listdir(blkgps_dir) if os.path.isdir(os.path.join(blkgps_dir, name))]\n",
    "            for blkgp in blkgps:\n",
    "#                 print(\"\\t\\t\",blkgp)\n",
    "                #Create the input and output folder paths\n",
    "                input_folder_path  = os.path.join(blkgps_dir, blkgp)\n",
    "                output_folder_path = os.path.join(classi_output_path, f\"{project_name}\",subdirectory,tract,blkgp)\n",
    "#                 print(input_folder_path)\n",
    "#                 print(output_folder_path)\n",
    "                #print(\"**Processing: \" + subdirectory+\" \" + tract+\" \" + blkgp)\n",
    "                infer(input_folder_path, output_folder_path, output_inference)"
   ]
  },
  {
   "attachments": {},
   "cell_type": "markdown",
   "id": "7aea1f01",
   "metadata": {},
   "source": [
    "# Solar Panel Segmentation"
   ]
  },
  {
   "cell_type": "code",
   "execution_count": 16,
   "id": "152822dc",
   "metadata": {},
   "outputs": [
    {
     "name": "stdout",
     "output_type": "stream",
     "text": [
      "['Arkansas_County', 'Ashley_County', 'Baxter_County', 'Boone_County', 'Bradley_County', 'Calhoun_County', 'Carroll_County', 'Chicot_County', 'Clark_County', 'Clay_County', 'Cleburne_County', 'Cleveland_County', 'Columbia_County', 'Conway_County', 'Craighead_County', 'Crawford_County', 'Crittenden_County', 'Cross_County', 'Dallas_County', 'Desha_County', 'Drew_County', 'Franklin_County', 'Fulton_County', 'Grant_County', 'Greene_County', 'Hempstead_County', 'Hot Spring_County', 'Howard_County', 'Independence_County', 'Izard_County', 'Jackson_County', 'Jefferson_County', 'Johnson_County', 'Lafayette_County', 'Lawrence_County', 'Lee_County', 'Lincoln_County', 'Little River_County', 'Logan_County', 'Lonoke_County', 'Madison_County', 'Marion_County', 'Miller_County', 'Mississippi_County', 'Monroe_County', 'Montgomery_County', 'Nevada_County', 'Newton_County', 'Ouachita_County', 'Perry_County', 'Phillips_County', 'Pike_County', 'Poinsett_County', 'Polk_County', 'Pope_County', 'Prairie_County', 'Randolph_County', 'Saline_County', 'Scott_County', 'Searcy_County', 'Sevier_County', 'Sharp_County', 'Stone_County', 'Union_County', 'Van Buren_County', 'Woodruff_County']\n"
     ]
    },
    {
     "name": "stderr",
     "output_type": "stream",
     "text": [
      "  0%|          | 0/66 [00:00<?, ?it/s]Ultralytics YOLOv8.0.20  Python-3.10.10 torch-1.12.1 CUDA:0 (NVIDIA GeForce RTX 3050 Ti Laptop GPU, 4096MiB)\n",
      "YOLOv8x-seg summary (fused): 295 layers, 71721619 parameters, 0 gradients, 343.7 GFLOPs\n",
      "100%|██████████| 66/66 [06:49<00:00,  6.20s/it]\n"
     ]
    }
   ],
   "source": [
    "# Move to pred file folder\n",
    "!cd {pred_file_path}\n",
    "\n",
    "# Initialize subdirectories\n",
    "subdirectories   = [name for name in os.listdir(os.path.join(classi_output_path,project_name)) if os.path.isdir(os.path.join(classi_output_path,project_name, name))]\n",
    "#subdirectories   = ['Arkansas_County']\n",
    "print(subdirectories)\n",
    "\n",
    "# Debug mode (0)\n",
    "debug = 0\n",
    "\n",
    "# Prediction file directory\n",
    "predictions_file = pred_file_path+\"\\\\\"+seg_result_file\n",
    "if os.path.exists(predictions_file):\n",
    "    os.remove(predictions_file)\n",
    "\n",
    "# Load a custom model\n",
    "model = YOLO(seg_model_path)  \n",
    "\n",
    "# Varibles for tracking the total number per blkgp \n",
    "blkgp_sp_count    = 0\n",
    "blkgp_numb_houses = 0\n",
    "blkgp_sp_area     = 0\n",
    "\n",
    "# Perform solar panel segmentation by the subdirectory level\n",
    "for subdirectory in tqdm(subdirectories, desc='Processing counties: '):   \n",
    "    #print(subdirectory)\n",
    "    tract_dir = os.path.join(classi_output_path,project_name,subdirectory)\n",
    "    tracts   = [name for name in os.listdir(tract_dir) if os.path.isdir(os.path.join(tract_dir, name))]\n",
    "\n",
    "    for tract in tracts:\n",
    "        #print(\"\\t\",tract)\n",
    "        blkgps_dir = tract_dir + f\"\\\\{tract}\"\n",
    "        blkgps   = [name for name in os.listdir(blkgps_dir) if os.path.isdir(os.path.join(blkgps_dir, name))]\n",
    "        for blkgp in blkgps:            \n",
    "            if os.listdir(blkgps_dir+f\"\\\\{blkgp}\"):\n",
    "                #reset\n",
    "                blkgp_sp_count      = 0\n",
    "                blkgp_numb_houses   = 0\n",
    "                blkgp_sp_area       = 0\n",
    "                total_num_of_houses = 0\n",
    "                #print(\"\\t\\t\",blkgp)\n",
    "\n",
    "                #Create the input and output folder paths\n",
    "                input_img_folder_path  = os.path.join(classi_dir_path,subdirectory,tract, blkgp)\n",
    "                #print(classi_dir_path)\n",
    "                #print(subdirectory)\n",
    "                #print(tract)\n",
    "                #print(blkgp)\n",
    "\n",
    "                dir_items = os.listdir(input_img_folder_path)\n",
    "                blkgp_total_houses = len(dir_items)\n",
    "                #print(blkgp_total_houses)\n",
    "\n",
    "                input_folder_path  = os.path.join(classi_output_path, project_name, subdirectory, tract, blkgp)\n",
    "                #print(\"\\t\\t**Processing: \",blkgp_total_houses, subdirectory, tract, blkgp)\n",
    "                #print(input_folder_path)\n",
    "\n",
    "                results = model.predict(source=input_folder_path, verbose=False)\n",
    "                for result in results:\n",
    "                    if(result.masks!=None):\n",
    "                        blkgp_numb_houses+=1\n",
    "                        for mask in result.masks.masks:\n",
    "                            blkgp_sp_count+=1\n",
    "                            mask_np = mask.cpu().numpy()\n",
    "                            # calculate area of mask\n",
    "                            mask_area = (mask > 0).sum() * pixel_area\n",
    "                            blkgp_sp_area +=mask_area\n",
    "                            if (debug==1):\n",
    "                                print(result.masks.orig_shape)\n",
    "                                print(\"(mask_np > 0).sum():\",(mask > 0).sum())\n",
    "                                print(mask)\n",
    "                                print(mask.size())\n",
    "                                plt.imshow(mask_np, cmap='gray')\n",
    "                                plt.show()\n",
    "                                print(f\"Area of the mask: {mask_area:.2f} square meters\\n\")  \n",
    "\n",
    "            num_tract = (tract.replace(\"_CensusTract\",\"\"))\n",
    "            num_blkgp = (blkgp.replace(\"_BlockGroup\",\"\"))\n",
    "            county_code = county_numbers[subdirectory.replace(\"_County\",\"\").lower()]\n",
    "            with open(predictions_file, 'a') as output_file:\n",
    "                output_file.write(f\"{county_code}-{num_tract}-{num_blkgp},{blkgp_total_houses} ,{blkgp_numb_houses}, {blkgp_sp_count}\\n\")\n",
    "            #print(f\"{county_code}-{num_tract}-{num_blkgp}, {blkgp_numb_houses}, {blkgp_sp_count}\\n\")"
   ]
  }
 ],
 "metadata": {
  "kernelspec": {
   "display_name": "Python 3 (ipykernel)",
   "language": "python",
   "name": "python3"
  },
  "language_info": {
   "codemirror_mode": {
    "name": "ipython",
    "version": 3
   },
   "file_extension": ".py",
   "mimetype": "text/x-python",
   "name": "python",
   "nbconvert_exporter": "python",
   "pygments_lexer": "ipython3",
   "version": "3.10.10"
  }
 },
 "nbformat": 4,
 "nbformat_minor": 5
}
