{
  "cells": [
    {
      "cell_type": "markdown",
      "metadata": {
        "id": "Lf3yzqYJK9Uv"
      },
      "source": [
        "# Environment Setup"
      ]
    },
    {
      "cell_type": "markdown",
      "source": [
        "### Source: PyTorch/Documentation"
      ],
      "metadata": {
        "id": "nFYL6NT-Kuqt"
      }
    },
    {
      "cell_type": "code",
      "execution_count": null,
      "metadata": {
        "id": "xrLFsEm_zxUy"
      },
      "outputs": [],
      "source": [
        "%matplotlib inline"
      ]
    },
    {
      "cell_type": "code",
      "execution_count": null,
      "metadata": {
        "colab": {
          "base_uri": "https://localhost:8080/"
        },
        "id": "Bvsh98etCj8I",
        "outputId": "97e3e405-10f6-4b2a-db68-c9e6acb6b7b9"
      },
      "outputs": [
        {
          "output_type": "stream",
          "name": "stdout",
          "text": [
            "PyTorch Version:  2.0.0+cu118\n",
            "Torchvision Version:  0.15.1+cu118\n",
            "cuda\n"
          ]
        }
      ],
      "source": [
        "from __future__ import print_function, division\n",
        "import torch\n",
        "import torch.nn as nn\n",
        "import torch.optim as optim\n",
        "import numpy as np\n",
        "import torchvision\n",
        "from torchvision import datasets, models, transforms\n",
        "from torch.optim import lr_scheduler\n",
        "import matplotlib.pyplot as plt\n",
        "import time\n",
        "import os\n",
        "import copy\n",
        "import random\n",
        "from PIL import Image\n",
        "import shutil\n",
        "from tqdm import tqdm\n",
        "import warnings\n",
        "warnings.filterwarnings(\"ignore\")\n",
        "\n",
        "print(\"PyTorch Version: \",torch.__version__)\n",
        "print(\"Torchvision Version: \",torchvision.__version__)\n",
        "\n",
        "torch.manual_seed(0)\n",
        "random.seed(0)\n",
        "\n",
        "device = torch.device('cuda') if torch.cuda.is_available() else torch.device('cpu')\n",
        "print(device)\n"
      ]
    },
    {
      "cell_type": "markdown",
      "source": [
        "# Configure Data and Experimental Settings"
      ],
      "metadata": {
        "id": "WAoyMRuHJCME"
      }
    },
    {
      "cell_type": "code",
      "execution_count": null,
      "metadata": {
        "colab": {
          "base_uri": "https://localhost:8080/"
        },
        "id": "6n1QiBvh0NDW",
        "outputId": "d18d7b06-638d-430f-d11f-e21194879e9c"
      },
      "outputs": [
        {
          "output_type": "stream",
          "name": "stdout",
          "text": [
            "/content\n",
            "Drive already mounted at /content/drive; to attempt to forcibly remount, call drive.mount(\"/content/drive\", force_remount=True).\n"
          ]
        }
      ],
      "source": [
        "# link to drive & use our dataset\n",
        "import os\n",
        "HOME = os.getcwd()\n",
        "print(HOME)\n",
        "from google.colab import drive\n",
        "drive.mount('/content/drive')"
      ]
    },
    {
      "cell_type": "code",
      "execution_count": null,
      "metadata": {
        "id": "qJWzZ8E4NYiz"
      },
      "outputs": [],
      "source": [
        "data_dir = '/content/drive/MyDrive/classi/data2'"
      ]
    },
    {
      "cell_type": "code",
      "execution_count": null,
      "metadata": {
        "id": "ROgfXeL2zxU2"
      },
      "outputs": [],
      "source": [
        "# # Top level data directory. Here we assume the format of the directory conforms \n",
        "# #   to the ImageFolder structure\n",
        "# data_dir = \"./data/hymenoptera_data\"\n",
        "\n",
        "# Models to choose from [resnet, alexnet, vgg, squeezenet, densenet, inception, mobile, effic]\n",
        "model_name = \"vgg\"\n",
        "\n",
        "# Number of classes in the dataset\n",
        "num_classes = 2\n",
        "\n",
        "# Batch size for training (change depending on how much memory you have)\n",
        "batch_size = 8\n",
        "\n",
        "# Number of epochs to train for \n",
        "num_epochs = 25\n",
        "\n",
        "# Flag for feature extracting. When False, we finetune the whole model, \n",
        "#   when True we only update the reshaped layer params\n",
        "feature_extract = False"
      ]
    },
    {
      "cell_type": "markdown",
      "source": [
        "# Train Model"
      ],
      "metadata": {
        "id": "ZAlAW__7JIaw"
      }
    },
    {
      "cell_type": "code",
      "execution_count": null,
      "metadata": {
        "id": "AACF_Lm-zxU2"
      },
      "outputs": [],
      "source": [
        "def train_model(model, dataloaders, criterion, optimizer, num_epochs=25, is_inception=False, save_path=None):\n",
        "    since = time.time()\n",
        "\n",
        "    val_acc_history = []\n",
        "    \n",
        "    best_model_wts = copy.deepcopy(model.state_dict())\n",
        "    best_acc = 0.0\n",
        "\n",
        "    for epoch in range(num_epochs):\n",
        "        print('Epoch {}/{}'.format(epoch, num_epochs - 1))\n",
        "        print('-' * 10)\n",
        "\n",
        "        # Each epoch has a training and validation phase\n",
        "        for phase in ['train', 'val']:\n",
        "            if phase == 'train':\n",
        "                model.train()  # Set model to training mode\n",
        "            else:\n",
        "                model.eval()   # Set model to evaluate mode\n",
        "\n",
        "            running_loss = 0.0\n",
        "            running_corrects = 0\n",
        "\n",
        "            # Iterate over data.\n",
        "            for inputs, labels in dataloaders[phase]:\n",
        "                inputs = inputs.to(device)\n",
        "                labels = labels.to(device)\n",
        "\n",
        "                # zero the parameter gradients\n",
        "                optimizer.zero_grad()\n",
        "\n",
        "                # forward\n",
        "                # track history if only in train\n",
        "                with torch.set_grad_enabled(phase == 'train'):\n",
        "                    # Get model outputs and calculate loss\n",
        "                    # Special case for inception because in training it has an auxiliary output. In train\n",
        "                    #   mode we calculate the loss by summing the final output and the auxiliary output\n",
        "                    #   but in testing we only consider the final output.\n",
        "                    if is_inception and phase == 'train':\n",
        "                        # From https://discuss.pytorch.org/t/how-to-optimize-inception-model-with-auxiliary-classifiers/7958\n",
        "                        outputs, aux_outputs = model(inputs)\n",
        "                        loss1 = criterion(outputs, labels)\n",
        "                        loss2 = criterion(aux_outputs, labels)\n",
        "                        loss = loss1 + 0.4*loss2\n",
        "                    else:\n",
        "                        outputs = model(inputs)\n",
        "                        loss = criterion(outputs, labels)\n",
        "\n",
        "                    _, preds = torch.max(outputs, 1)\n",
        "\n",
        "                    # backward + optimize only if in training phase\n",
        "                    if phase == 'train':\n",
        "                        loss.backward()\n",
        "                        optimizer.step()\n",
        "\n",
        "                # statistics\n",
        "                running_loss += loss.item() * inputs.size(0)\n",
        "                running_corrects += torch.sum(preds == labels.data)\n",
        "            \n",
        "            epoch_loss = running_loss / len(dataloaders[phase].dataset)\n",
        "            epoch_acc = running_corrects.double() / len(dataloaders[phase].dataset)\n",
        "\n",
        "            print('{} Loss: {:.4f} Acc: {:.4f}'.format(phase, epoch_loss, epoch_acc))\n",
        "\n",
        "            # deep copy the model\n",
        "            if phase == 'val' and epoch_acc > best_acc:\n",
        "                best_acc = epoch_acc\n",
        "                best_model_wts = copy.deepcopy(model.state_dict())\n",
        "            if phase == 'val':\n",
        "                val_acc_history.append(epoch_acc)\n",
        "\n",
        "        print()\n",
        "\n",
        "    time_elapsed = time.time() - since\n",
        "    print('Training complete in {:.0f}m {:.0f}s'.format(time_elapsed // 60, time_elapsed % 60))\n",
        "    print('Best val Acc: {:4f}'.format(best_acc))\n",
        "\n",
        "    # load best model weights\n",
        "    model.load_state_dict(best_model_wts)\n",
        "    if save_path is not None:\n",
        "        torch.save(best_model_wts, save_path)\n",
        "    \n",
        "    return model, val_acc_history"
      ]
    },
    {
      "cell_type": "code",
      "execution_count": null,
      "metadata": {
        "id": "sksmCQyUzxU3"
      },
      "outputs": [],
      "source": [
        "# Set/turn off configuration for feature extraction\n",
        "def set_parameter_requires_grad(model, feature_extracting):\n",
        "    if feature_extracting:\n",
        "        for param in model.parameters():\n",
        "            param.requires_grad = False"
      ]
    },
    {
      "cell_type": "markdown",
      "source": [
        "# Model Initiation"
      ],
      "metadata": {
        "id": "INLlbJJwJUjz"
      }
    },
    {
      "cell_type": "code",
      "execution_count": null,
      "metadata": {
        "id": "BKVRkogpzxU4",
        "colab": {
          "base_uri": "https://localhost:8080/"
        },
        "outputId": "c64ac409-4525-48fe-cfae-a06bdd000631"
      },
      "outputs": [
        {
          "output_type": "stream",
          "name": "stderr",
          "text": [
            "Downloading: \"https://download.pytorch.org/models/vgg11_bn-6002323d.pth\" to /root/.cache/torch/hub/checkpoints/vgg11_bn-6002323d.pth\n",
            "100%|██████████| 507M/507M [00:06<00:00, 79.9MB/s]\n"
          ]
        }
      ],
      "source": [
        "def initialize_model(model_name, num_classes, feature_extract, use_pretrained=True):\n",
        "    # Initialize these variables which will be set in this if statement. Each of these\n",
        "    #   variables is model specific.\n",
        "    model_ft = None\n",
        "    input_size = 0\n",
        "    #print('feature_extract:', feature_extract)\n",
        "    #print('model_name:', model_name)\n",
        "    #print('use_pretrained:', use_pretrained)\n",
        "    if model_name == \"resnet\":\n",
        "        \"\"\" Resnet18\n",
        "        \"\"\"\n",
        "        model_ft = models.resnet18(pretrained=use_pretrained)\n",
        "        set_parameter_requires_grad(model_ft, feature_extract)\n",
        "        num_ftrs = model_ft.fc.in_features\n",
        "        model_ft.fc = nn.Linear(num_ftrs, num_classes)\n",
        "        input_size = 224\n",
        "\n",
        "    elif model_name == \"effic\":\n",
        "        \"\"\" EfficientNet\n",
        "        \"\"\"\n",
        "        model_ft = models.efficientnet_b0(pretrained=True)\n",
        "        set_parameter_requires_grad(model_ft, feature_extract)\n",
        "        model_ft.classifier[1] = nn.Linear(in_features=1280, out_features=num_classes)\n",
        "        input_size = 224\n",
        "\n",
        "    elif model_name == \"mobile\":\n",
        "        \"\"\" MobileNet\n",
        "        \"\"\"\n",
        "        model_ft = models.mobilenet_v2(pretrained=True)\n",
        "        set_parameter_requires_grad(model_ft, feature_extract)\n",
        "        #model_ft.fc=torch.nn.Linear(model_ft.fc.in_features, num_classes)\n",
        "        model_ft.classifier[1] = torch.nn.Linear(in_features=model_ft.classifier[1].in_features, out_features=num_classes)\n",
        "        input_size = 224\n",
        "\n",
        "    elif model_name == \"alexnet\":\n",
        "        \"\"\" Alexnet\n",
        "        \"\"\"\n",
        "        model_ft = models.alexnet(pretrained=use_pretrained)\n",
        "        set_parameter_requires_grad(model_ft, feature_extract)\n",
        "        num_ftrs = model_ft.classifier[6].in_features\n",
        "        model_ft.classifier[6] = nn.Linear(num_ftrs,num_classes)\n",
        "        input_size = 224\n",
        "\n",
        "    elif model_name == \"vgg\":\n",
        "        \"\"\" VGG11_bn\n",
        "        \"\"\"\n",
        "        model_ft = models.vgg11_bn(pretrained=use_pretrained)\n",
        "        set_parameter_requires_grad(model_ft, feature_extract)\n",
        "        num_ftrs = model_ft.classifier[6].in_features\n",
        "        model_ft.classifier[6] = nn.Linear(num_ftrs,num_classes)\n",
        "        input_size = 224\n",
        "\n",
        "    elif model_name == \"squeezenet\":\n",
        "        \"\"\" Squeezenet\n",
        "        \"\"\"\n",
        "        model_ft = models.squeezenet1_0(pretrained=use_pretrained)\n",
        "        set_parameter_requires_grad(model_ft, feature_extract)\n",
        "        model_ft.classifier[1] = nn.Conv2d(512, num_classes, kernel_size=(1,1), stride=(1,1))\n",
        "        model_ft.num_classes = num_classes\n",
        "        input_size = 224\n",
        "\n",
        "    elif model_name == \"densenet\":\n",
        "        \"\"\" Densenet\n",
        "        \"\"\"\n",
        "        model_ft = models.densenet121(pretrained=use_pretrained)\n",
        "        set_parameter_requires_grad(model_ft, feature_extract)\n",
        "        num_ftrs = model_ft.classifier.in_features\n",
        "        model_ft.classifier = nn.Linear(num_ftrs, num_classes) \n",
        "        input_size = 224\n",
        "\n",
        "    elif model_name == \"inception\":\n",
        "        \"\"\" Inception v3 \n",
        "        Be careful, expects (299,299) sized images and has auxiliary output\n",
        "        \"\"\"\n",
        "        model_ft = models.inception_v3(pretrained=use_pretrained)\n",
        "        set_parameter_requires_grad(model_ft, feature_extract)\n",
        "        # Handle the auxilary net\n",
        "        num_ftrs = model_ft.AuxLogits.fc.in_features\n",
        "        model_ft.AuxLogits.fc = nn.Linear(num_ftrs, num_classes)\n",
        "        # Handle the primary net\n",
        "        num_ftrs = model_ft.fc.in_features\n",
        "        model_ft.fc = nn.Linear(num_ftrs,num_classes)\n",
        "        input_size = 299\n",
        "\n",
        "    else:\n",
        "        print(\"Invalid model name, exiting...\")\n",
        "        exit()\n",
        "    \n",
        "    return model_ft, input_size\n",
        "\n",
        "# Initialize the model for this run\n",
        "model_ft, input_size = initialize_model(model_name, num_classes, feature_extract, use_pretrained=True)\n",
        "\n",
        "# Print the model we just instantiated\n",
        "#print(model_ft)"
      ]
    },
    {
      "cell_type": "markdown",
      "metadata": {
        "id": "4xW067bUJHFc"
      },
      "source": [
        "# Training -- Load Data"
      ]
    },
    {
      "cell_type": "code",
      "execution_count": null,
      "metadata": {
        "id": "TLC3lmHJzxU4",
        "colab": {
          "base_uri": "https://localhost:8080/"
        },
        "outputId": "2678d6c5-f4cd-4e90-f303-5bd1155e8db9"
      },
      "outputs": [
        {
          "output_type": "stream",
          "name": "stdout",
          "text": [
            "Initializing Datasets and Dataloaders...\n"
          ]
        }
      ],
      "source": [
        "# Data augmentation and normalization for training\n",
        "# Just normalization for validation\n",
        "data_transforms = {\n",
        "    'train': transforms.Compose([\n",
        "        transforms.RandomResizedCrop(input_size),\n",
        "        transforms.RandomHorizontalFlip(),\n",
        "        transforms.ToTensor(),\n",
        "        transforms.Normalize([0.485, 0.456, 0.406], [0.229, 0.224, 0.225])\n",
        "    ]),\n",
        "    'val': transforms.Compose([\n",
        "        transforms.Resize(input_size),\n",
        "        transforms.CenterCrop(input_size),\n",
        "        transforms.ToTensor(),\n",
        "        transforms.Normalize([0.485, 0.456, 0.406], [0.229, 0.224, 0.225])\n",
        "    ]),\n",
        "}\n",
        "\n",
        "print(\"Initializing Datasets and Dataloaders...\")\n",
        "\n",
        "# Create training and validation datasets\n",
        "image_datasets = {x: datasets.ImageFolder(os.path.join(data_dir, x), data_transforms[x]) for x in ['train', 'val']}\n",
        "# Create training and validation dataloaders\n",
        "dataloaders_dict = {x: torch.utils.data.DataLoader(image_datasets[x], batch_size=batch_size, shuffle=True, num_workers=4) for x in ['train', 'val']}\n"
      ]
    },
    {
      "cell_type": "markdown",
      "source": [
        "# Set Optimizer"
      ],
      "metadata": {
        "id": "WA9BVr_BJeSz"
      }
    },
    {
      "cell_type": "code",
      "execution_count": null,
      "metadata": {
        "id": "ZMUUXaTdzxU5",
        "colab": {
          "base_uri": "https://localhost:8080/"
        },
        "outputId": "572c7a0a-1bc2-452b-98e8-144f09b78fd4"
      },
      "outputs": [
        {
          "output_type": "stream",
          "name": "stdout",
          "text": [
            "Params to learn:\n",
            "\t features.0.weight\n",
            "\t features.0.bias\n",
            "\t features.1.weight\n",
            "\t features.1.bias\n",
            "\t features.4.weight\n",
            "\t features.4.bias\n",
            "\t features.5.weight\n",
            "\t features.5.bias\n",
            "\t features.8.weight\n",
            "\t features.8.bias\n",
            "\t features.9.weight\n",
            "\t features.9.bias\n",
            "\t features.11.weight\n",
            "\t features.11.bias\n",
            "\t features.12.weight\n",
            "\t features.12.bias\n",
            "\t features.15.weight\n",
            "\t features.15.bias\n",
            "\t features.16.weight\n",
            "\t features.16.bias\n",
            "\t features.18.weight\n",
            "\t features.18.bias\n",
            "\t features.19.weight\n",
            "\t features.19.bias\n",
            "\t features.22.weight\n",
            "\t features.22.bias\n",
            "\t features.23.weight\n",
            "\t features.23.bias\n",
            "\t features.25.weight\n",
            "\t features.25.bias\n",
            "\t features.26.weight\n",
            "\t features.26.bias\n",
            "\t classifier.0.weight\n",
            "\t classifier.0.bias\n",
            "\t classifier.3.weight\n",
            "\t classifier.3.bias\n",
            "\t classifier.6.weight\n",
            "\t classifier.6.bias\n"
          ]
        }
      ],
      "source": [
        "# Send the model to GPU\n",
        "model_ft = model_ft.to(device)\n",
        "\n",
        "params_to_update = model_ft.parameters()\n",
        "print(\"Params to learn:\")\n",
        "if feature_extract:\n",
        "    params_to_update = []\n",
        "    for name,param in model_ft.named_parameters():\n",
        "        if param.requires_grad == True:\n",
        "            params_to_update.append(param)\n",
        "            print(\"\\t\",name)\n",
        "else:\n",
        "    for name,param in model_ft.named_parameters():\n",
        "        if param.requires_grad == True:\n",
        "            print(\"\\t\",name)\n",
        "\n",
        "optimizer_ft = optim.SGD(params_to_update, lr=0.001, momentum=0.9)"
      ]
    },
    {
      "cell_type": "markdown",
      "source": [
        "# Define loss, set path to save the model, and start to train the model"
      ],
      "metadata": {
        "id": "PH7riErwJ_6j"
      }
    },
    {
      "cell_type": "code",
      "execution_count": null,
      "metadata": {
        "id": "ZF83PbU5zxU5",
        "colab": {
          "base_uri": "https://localhost:8080/"
        },
        "outputId": "cd0bfd33-f918-4aac-def9-b35b65ec6b99"
      },
      "outputs": [
        {
          "output_type": "stream",
          "name": "stdout",
          "text": [
            "Epoch 0/24\n",
            "----------\n",
            "train Loss: 0.1843 Acc: 0.9254\n",
            "val Loss: 0.1585 Acc: 0.9300\n",
            "\n",
            "Epoch 1/24\n",
            "----------\n",
            "train Loss: 0.1595 Acc: 0.9352\n",
            "val Loss: 0.1917 Acc: 0.9400\n",
            "\n",
            "Epoch 2/24\n",
            "----------\n",
            "train Loss: 0.1598 Acc: 0.9324\n",
            "val Loss: 0.2265 Acc: 0.9200\n",
            "\n",
            "Epoch 3/24\n",
            "----------\n",
            "train Loss: 0.1474 Acc: 0.9338\n",
            "val Loss: 0.2834 Acc: 0.9400\n",
            "\n",
            "Epoch 4/24\n",
            "----------\n",
            "train Loss: 0.1872 Acc: 0.9169\n",
            "val Loss: 0.3076 Acc: 0.9000\n",
            "\n",
            "Epoch 5/24\n",
            "----------\n",
            "train Loss: 0.1658 Acc: 0.9324\n",
            "val Loss: 0.2949 Acc: 0.9200\n",
            "\n",
            "Epoch 6/24\n",
            "----------\n",
            "train Loss: 0.1715 Acc: 0.9127\n",
            "val Loss: 0.2515 Acc: 0.9300\n",
            "\n",
            "Epoch 7/24\n",
            "----------\n",
            "train Loss: 0.1314 Acc: 0.9493\n",
            "val Loss: 0.3018 Acc: 0.9200\n",
            "\n",
            "Epoch 8/24\n",
            "----------\n",
            "train Loss: 0.1619 Acc: 0.9352\n",
            "val Loss: 0.1833 Acc: 0.9300\n",
            "\n",
            "Epoch 9/24\n",
            "----------\n",
            "train Loss: 0.1659 Acc: 0.9197\n",
            "val Loss: 0.3742 Acc: 0.9400\n",
            "\n",
            "Epoch 10/24\n",
            "----------\n",
            "train Loss: 0.1491 Acc: 0.9380\n",
            "val Loss: 0.2623 Acc: 0.9500\n",
            "\n",
            "Epoch 11/24\n",
            "----------\n",
            "train Loss: 0.1477 Acc: 0.9366\n",
            "val Loss: 0.2488 Acc: 0.9300\n",
            "\n",
            "Epoch 12/24\n",
            "----------\n",
            "train Loss: 0.1553 Acc: 0.9380\n",
            "val Loss: 0.3485 Acc: 0.9200\n",
            "\n",
            "Epoch 13/24\n",
            "----------\n",
            "train Loss: 0.1284 Acc: 0.9465\n",
            "val Loss: 0.2834 Acc: 0.9100\n",
            "\n",
            "Epoch 14/24\n",
            "----------\n",
            "train Loss: 0.1409 Acc: 0.9465\n",
            "val Loss: 0.3223 Acc: 0.9100\n",
            "\n",
            "Epoch 15/24\n",
            "----------\n",
            "train Loss: 0.1815 Acc: 0.9268\n",
            "val Loss: 0.3201 Acc: 0.9000\n",
            "\n",
            "Epoch 16/24\n",
            "----------\n",
            "train Loss: 0.1691 Acc: 0.9211\n",
            "val Loss: 0.3149 Acc: 0.8800\n",
            "\n",
            "Epoch 17/24\n",
            "----------\n",
            "train Loss: 0.1191 Acc: 0.9535\n",
            "val Loss: 0.3137 Acc: 0.9100\n",
            "\n",
            "Epoch 18/24\n",
            "----------\n",
            "train Loss: 0.1645 Acc: 0.9296\n",
            "val Loss: 0.4053 Acc: 0.9200\n",
            "\n",
            "Epoch 19/24\n",
            "----------\n",
            "train Loss: 0.1170 Acc: 0.9606\n",
            "val Loss: 0.1653 Acc: 0.9500\n",
            "\n",
            "Epoch 20/24\n",
            "----------\n",
            "train Loss: 0.1225 Acc: 0.9507\n",
            "val Loss: 0.2948 Acc: 0.9000\n",
            "\n",
            "Epoch 21/24\n",
            "----------\n",
            "train Loss: 0.1250 Acc: 0.9535\n",
            "val Loss: 0.2174 Acc: 0.9300\n",
            "\n",
            "Epoch 22/24\n",
            "----------\n",
            "train Loss: 0.1399 Acc: 0.9493\n",
            "val Loss: 0.2274 Acc: 0.9400\n",
            "\n",
            "Epoch 23/24\n",
            "----------\n",
            "train Loss: 0.1010 Acc: 0.9620\n",
            "val Loss: 0.4264 Acc: 0.9200\n",
            "\n",
            "Epoch 24/24\n",
            "----------\n",
            "train Loss: 0.1778 Acc: 0.9225\n",
            "val Loss: 0.2772 Acc: 0.9200\n",
            "\n",
            "Training complete in 5m 11s\n",
            "Best val Acc: 0.950000\n"
          ]
        }
      ],
      "source": [
        "# Setup the loss fxn\n",
        "criterion = nn.CrossEntropyLoss()\n",
        " \n",
        "# Train and evaluate\n",
        "save_path = \"/content/drive/MyDrive/classi/shared_results/SYH/vgg3.pt\"\n",
        "\n",
        "model_ft, hist = train_model(model_ft, dataloaders_dict, criterion, optimizer_ft, num_epochs=num_epochs, is_inception=(model_name==\"inception\"), save_path=save_path)"
      ]
    },
    {
      "cell_type": "markdown",
      "metadata": {
        "id": "mCItGJ9vzxU5"
      },
      "source": [
        "Comparison with Model Trained from Scratch\n",
        "------------------------------------------\n",
        "\n",
        "Just for fun, lets see how the model learns if we do not use transfer\n",
        "learning. The performance of finetuning vs. feature extracting depends\n",
        "largely on the dataset but in general both transfer learning methods\n",
        "produce favorable results in terms of training time and overall accuracy\n",
        "versus a model trained from scratch.\n",
        "\n",
        "\n"
      ]
    },
    {
      "cell_type": "code",
      "execution_count": null,
      "metadata": {
        "id": "vHp8vBFYzxU5",
        "colab": {
          "base_uri": "https://localhost:8080/"
        },
        "outputId": "2c9b8411-ebfe-4979-f4ed-24f96b76d252"
      },
      "outputs": [
        {
          "output_type": "stream",
          "name": "stdout",
          "text": [
            "Epoch 0/24\n",
            "----------\n",
            "train Loss: 1.9006 Acc: 0.4704\n",
            "val Loss: 1.7896 Acc: 0.4900\n",
            "\n",
            "Epoch 1/24\n",
            "----------\n",
            "train Loss: 1.0505 Acc: 0.4803\n",
            "val Loss: 0.8008 Acc: 0.5500\n",
            "\n",
            "Epoch 2/24\n",
            "----------\n",
            "train Loss: 1.0034 Acc: 0.5085\n",
            "val Loss: 0.7689 Acc: 0.4900\n",
            "\n",
            "Epoch 3/24\n",
            "----------\n",
            "train Loss: 0.9215 Acc: 0.4549\n",
            "val Loss: 0.8595 Acc: 0.4700\n",
            "\n",
            "Epoch 4/24\n",
            "----------\n",
            "train Loss: 0.8978 Acc: 0.4718\n",
            "val Loss: 0.8156 Acc: 0.5100\n",
            "\n",
            "Epoch 5/24\n",
            "----------\n",
            "train Loss: 0.8110 Acc: 0.5352\n",
            "val Loss: 0.7260 Acc: 0.5400\n",
            "\n",
            "Epoch 6/24\n",
            "----------\n",
            "train Loss: 0.8203 Acc: 0.5310\n",
            "val Loss: 0.7947 Acc: 0.4500\n",
            "\n",
            "Epoch 7/24\n",
            "----------\n",
            "train Loss: 0.7641 Acc: 0.5000\n",
            "val Loss: 0.6995 Acc: 0.5100\n",
            "\n",
            "Epoch 8/24\n",
            "----------\n",
            "train Loss: 0.7598 Acc: 0.5225\n",
            "val Loss: 0.7393 Acc: 0.4800\n",
            "\n",
            "Epoch 9/24\n",
            "----------\n",
            "train Loss: 0.7405 Acc: 0.5113\n",
            "val Loss: 0.7309 Acc: 0.4600\n",
            "\n",
            "Epoch 10/24\n",
            "----------\n",
            "train Loss: 0.7494 Acc: 0.5127\n",
            "val Loss: 0.7160 Acc: 0.4800\n",
            "\n",
            "Epoch 11/24\n",
            "----------\n",
            "train Loss: 0.7193 Acc: 0.5268\n",
            "val Loss: 0.7084 Acc: 0.5200\n",
            "\n",
            "Epoch 12/24\n",
            "----------\n",
            "train Loss: 0.7342 Acc: 0.5408\n",
            "val Loss: 0.7339 Acc: 0.5000\n",
            "\n",
            "Epoch 13/24\n",
            "----------\n",
            "train Loss: 0.7078 Acc: 0.5268\n",
            "val Loss: 0.7084 Acc: 0.4900\n",
            "\n",
            "Epoch 14/24\n",
            "----------\n",
            "train Loss: 0.7255 Acc: 0.5338\n",
            "val Loss: 0.7470 Acc: 0.4700\n",
            "\n",
            "Epoch 15/24\n",
            "----------\n",
            "train Loss: 0.7219 Acc: 0.5408\n",
            "val Loss: 0.7305 Acc: 0.4300\n",
            "\n",
            "Epoch 16/24\n",
            "----------\n",
            "train Loss: 0.7003 Acc: 0.5366\n",
            "val Loss: 0.7074 Acc: 0.5600\n",
            "\n",
            "Epoch 17/24\n",
            "----------\n",
            "train Loss: 0.7138 Acc: 0.5310\n",
            "val Loss: 0.7156 Acc: 0.5600\n",
            "\n",
            "Epoch 18/24\n",
            "----------\n",
            "train Loss: 0.7050 Acc: 0.5324\n",
            "val Loss: 0.6747 Acc: 0.5400\n",
            "\n",
            "Epoch 19/24\n",
            "----------\n",
            "train Loss: 0.6926 Acc: 0.5577\n",
            "val Loss: 0.7280 Acc: 0.5600\n",
            "\n",
            "Epoch 20/24\n",
            "----------\n",
            "train Loss: 0.7142 Acc: 0.5479\n",
            "val Loss: 0.6937 Acc: 0.5500\n",
            "\n",
            "Epoch 21/24\n",
            "----------\n",
            "train Loss: 0.6843 Acc: 0.5620\n",
            "val Loss: 0.6561 Acc: 0.6200\n",
            "\n",
            "Epoch 22/24\n",
            "----------\n",
            "train Loss: 0.6884 Acc: 0.5563\n",
            "val Loss: 0.6605 Acc: 0.5900\n",
            "\n",
            "Epoch 23/24\n",
            "----------\n",
            "train Loss: 0.6967 Acc: 0.5732\n",
            "val Loss: 0.6670 Acc: 0.6100\n",
            "\n",
            "Epoch 24/24\n",
            "----------\n",
            "train Loss: 0.6751 Acc: 0.5690\n",
            "val Loss: 0.6593 Acc: 0.6000\n",
            "\n",
            "Training complete in 5m 10s\n",
            "Best val Acc: 0.620000\n"
          ]
        }
      ],
      "source": [
        "# Initialize the non-pretrained version of the model used for this run\n",
        "scratch_model,_ = initialize_model(model_name, num_classes, feature_extract=False, use_pretrained=False)\n",
        "scratch_model = scratch_model.to(device)\n",
        "scratch_optimizer = optim.SGD(scratch_model.parameters(), lr=0.001, momentum=0.9)\n",
        "scratch_criterion = nn.CrossEntropyLoss()\n",
        "_,scratch_hist = train_model(scratch_model, dataloaders_dict, scratch_criterion, scratch_optimizer, num_epochs=num_epochs, is_inception=(model_name==\"inception\"))\n"
      ]
    },
    {
      "cell_type": "code",
      "source": [
        "# feature extraction\n",
        "f_model,_ = initialize_model(model_name, num_classes, feature_extract=True, use_pretrained=True)\n",
        "f_model = f_model.to(device)\n",
        "f_optimizer = optim.SGD(f_model.parameters(), lr=0.001, momentum=0.9)\n",
        "f_criterion = nn.CrossEntropyLoss()\n",
        "_,f_hist = train_model(f_model, dataloaders_dict, f_criterion, f_optimizer, num_epochs=num_epochs, is_inception=(model_name==\"inception\"))"
      ],
      "metadata": {
        "id": "IWY7qowNgBRb",
        "colab": {
          "base_uri": "https://localhost:8080/"
        },
        "outputId": "8d9f9251-5631-4d76-e3a4-e8c7d12b177a"
      },
      "execution_count": null,
      "outputs": [
        {
          "output_type": "stream",
          "name": "stdout",
          "text": [
            "Epoch 0/24\n",
            "----------\n",
            "train Loss: 0.6855 Acc: 0.6070\n",
            "val Loss: 0.5983 Acc: 0.7000\n",
            "\n",
            "Epoch 1/24\n",
            "----------\n",
            "train Loss: 0.6973 Acc: 0.6296\n",
            "val Loss: 0.6909 Acc: 0.6100\n",
            "\n",
            "Epoch 2/24\n",
            "----------\n",
            "train Loss: 0.6340 Acc: 0.6732\n",
            "val Loss: 0.5574 Acc: 0.7100\n",
            "\n",
            "Epoch 3/24\n",
            "----------\n",
            "train Loss: 0.6537 Acc: 0.6535\n",
            "val Loss: 0.5259 Acc: 0.7400\n",
            "\n",
            "Epoch 4/24\n",
            "----------\n",
            "train Loss: 0.6435 Acc: 0.6423\n",
            "val Loss: 0.5392 Acc: 0.6700\n",
            "\n",
            "Epoch 5/24\n",
            "----------\n",
            "train Loss: 0.6849 Acc: 0.6479\n",
            "val Loss: 0.5424 Acc: 0.7400\n",
            "\n",
            "Epoch 6/24\n",
            "----------\n",
            "train Loss: 0.6479 Acc: 0.6746\n",
            "val Loss: 0.6002 Acc: 0.7100\n",
            "\n",
            "Epoch 7/24\n",
            "----------\n",
            "train Loss: 0.7079 Acc: 0.6577\n",
            "val Loss: 0.5456 Acc: 0.7100\n",
            "\n",
            "Epoch 8/24\n",
            "----------\n",
            "train Loss: 0.6832 Acc: 0.6648\n",
            "val Loss: 0.5727 Acc: 0.6900\n",
            "\n",
            "Epoch 9/24\n",
            "----------\n",
            "train Loss: 0.6653 Acc: 0.6704\n",
            "val Loss: 0.5471 Acc: 0.7200\n",
            "\n",
            "Epoch 10/24\n",
            "----------\n",
            "train Loss: 0.6820 Acc: 0.6648\n",
            "val Loss: 0.5410 Acc: 0.7000\n",
            "\n",
            "Epoch 11/24\n",
            "----------\n",
            "train Loss: 0.6354 Acc: 0.6789\n",
            "val Loss: 0.5491 Acc: 0.7200\n",
            "\n",
            "Epoch 12/24\n",
            "----------\n",
            "train Loss: 0.6407 Acc: 0.6845\n",
            "val Loss: 0.5256 Acc: 0.7300\n",
            "\n",
            "Epoch 13/24\n",
            "----------\n",
            "train Loss: 0.7019 Acc: 0.6662\n",
            "val Loss: 0.5819 Acc: 0.7500\n",
            "\n",
            "Epoch 14/24\n",
            "----------\n",
            "train Loss: 0.7393 Acc: 0.6535\n",
            "val Loss: 0.5199 Acc: 0.7300\n",
            "\n",
            "Epoch 15/24\n",
            "----------\n",
            "train Loss: 0.6558 Acc: 0.6944\n",
            "val Loss: 0.5415 Acc: 0.7000\n",
            "\n",
            "Epoch 16/24\n",
            "----------\n",
            "train Loss: 0.6626 Acc: 0.6915\n",
            "val Loss: 0.5907 Acc: 0.7300\n",
            "\n",
            "Epoch 17/24\n",
            "----------\n",
            "train Loss: 0.6400 Acc: 0.7042\n",
            "val Loss: 0.6515 Acc: 0.7000\n",
            "\n",
            "Epoch 18/24\n",
            "----------\n",
            "train Loss: 0.6394 Acc: 0.6930\n",
            "val Loss: 0.5443 Acc: 0.7400\n",
            "\n",
            "Epoch 19/24\n",
            "----------\n",
            "train Loss: 0.6607 Acc: 0.6887\n",
            "val Loss: 0.5167 Acc: 0.7600\n",
            "\n",
            "Epoch 20/24\n",
            "----------\n",
            "train Loss: 0.6417 Acc: 0.7169\n",
            "val Loss: 0.5346 Acc: 0.7400\n",
            "\n",
            "Epoch 21/24\n",
            "----------\n",
            "train Loss: 0.6796 Acc: 0.6690\n",
            "val Loss: 0.5669 Acc: 0.6900\n",
            "\n",
            "Epoch 22/24\n",
            "----------\n",
            "train Loss: 0.7046 Acc: 0.6803\n",
            "val Loss: 0.5109 Acc: 0.7500\n",
            "\n",
            "Epoch 23/24\n",
            "----------\n",
            "train Loss: 0.7085 Acc: 0.6507\n",
            "val Loss: 0.5469 Acc: 0.7300\n",
            "\n",
            "Epoch 24/24\n",
            "----------\n",
            "train Loss: 0.7125 Acc: 0.6859\n",
            "val Loss: 0.5854 Acc: 0.7100\n",
            "\n",
            "Training complete in 3m 38s\n",
            "Best val Acc: 0.760000\n"
          ]
        }
      ]
    },
    {
      "cell_type": "code",
      "source": [
        "# Plot the performance of the three methods: 1) Train from scratch, 2) feature extraction, and 3) fine-tuning\n",
        "ohist = []\n",
        "shist = []\n",
        "fhist = []\n",
        "ohist = [h.cpu().numpy()*100 for h in hist]\n",
        "shist = [h.cpu().numpy()*100 for h in scratch_hist]\n",
        "fhist = [h.cpu().numpy()*100 for h in f_hist]"
      ],
      "metadata": {
        "id": "pp0VF_qnvQK9"
      },
      "execution_count": null,
      "outputs": []
    },
    {
      "cell_type": "code",
      "execution_count": null,
      "metadata": {
        "id": "Avh-Y-92b3SS",
        "colab": {
          "base_uri": "https://localhost:8080/",
          "height": 472
        },
        "outputId": "204074d6-6913-4aab-8c8e-4a4bc0daa6e7"
      },
      "outputs": [
        {
          "output_type": "display_data",
          "data": {
            "text/plain": [
              "<Figure size 640x480 with 1 Axes>"
            ],
            "image/png": "[encoded data removed]"
          },
          "metadata": {}
        }
      ],
      "source": [
        "plt.title(\"DenseNet Model Training\")\n",
        "plt.xlabel(\"Training Epochs\")\n",
        "plt.ylabel(\"Validation Accuracy (%)\")\n",
        "plt.plot(range(1,num_epochs+1),ohist,label=\"Fine-tuning\",color=\"r\")\n",
        "plt.plot(range(1,num_epochs+1),fhist,label=\"Feature Extraction\",color=\"m\")\n",
        "plt.plot(range(1,num_epochs+1),shist,label=\"Baseline\",color=\"b\")\n",
        "plt.ylim((0,100.))\n",
        "plt.xticks(np.arange(1, num_epochs+1, 2.0))\n",
        "plt.legend()\n",
        "plt.show()"
      ]
    }
  ],
  "metadata": {
    "accelerator": "GPU",
    "colab": {
      "provenance": []
    },
    "gpuClass": "standard",
    "kernelspec": {
      "display_name": "Python 3",
      "language": "python",
      "name": "python3"
    },
    "language_info": {
      "codemirror_mode": {
        "name": "ipython",
        "version": 3
      },
      "file_extension": ".py",
      "mimetype": "text/x-python",
      "name": "python",
      "nbconvert_exporter": "python",
      "pygments_lexer": "ipython3",
      "version": "3.6.8"
    }
  },
  "nbformat": 4,
  "nbformat_minor": 0
}