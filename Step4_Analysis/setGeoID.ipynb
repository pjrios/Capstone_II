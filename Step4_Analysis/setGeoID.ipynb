{
 "cells": [
  {
   "cell_type": "markdown",
   "id": "ad2812ea",
   "metadata": {},
   "source": [
    "# setGeoID"
   ]
  },
  {
   "cell_type": "markdown",
   "id": "bfe036b1",
   "metadata": {},
   "source": [
    "Input: compiled_data.csv\n",
    "\n",
    "Output: sdData.csv\n",
    "\n",
    "Task: Convert the primary key to GeoID (stored in the first column of the input file)"
   ]
  },
  {
   "cell_type": "code",
   "execution_count": 89,
   "id": "43761dcd",
   "metadata": {},
   "outputs": [],
   "source": [
    "# Initialize variables\n",
    "input_filename = \"data/compiled_data.txt\"\n",
    "output_filename = 'data/sdData.csv'"
   ]
  },
  {
   "cell_type": "code",
   "execution_count": 90,
   "id": "f9679df0",
   "metadata": {},
   "outputs": [
    {
     "data": {
      "text/plain": [
       "'data/compiled_data.txt'"
      ]
     },
     "execution_count": 90,
     "metadata": {},
     "output_type": "execute_result"
    }
   ],
   "source": [
    "str(input_filename)"
   ]
  },
  {
   "cell_type": "code",
   "execution_count": 91,
   "id": "272aa1c9",
   "metadata": {},
   "outputs": [
    {
     "name": "stdout",
     "output_type": "stream",
     "text": [
      "005450\n",
      "001230\n",
      "000100\n",
      "455630\n"
     ]
    }
   ],
   "source": [
    "# create functions (if needed)\n",
    "def decimal_point_exists(s):\n",
    "    return \".\" in s\n",
    "\n",
    "# used to convert varying length census tract numbers to 6-digit tract numbers based on the rule described in the function\n",
    "def format_number(num):\n",
    "    num_str = str(float(num))\n",
    "    integer_part, decimal_part = num_str.split('.')\n",
    "    integer_part_padded = integer_part.zfill(4)\n",
    "    return integer_part_padded + decimal_part.ljust(2, '0')\n",
    "\n",
    "# Example usage\n",
    "test = format_number(54.5)\n",
    "print(test)\n",
    "print(format_number(12.3))    # Output: '001230'\n",
    "print(format_number(1))       # Output: '000100'\n",
    "print(format_number(4556.3))  # Output: '455630'"
   ]
  },
  {
   "cell_type": "markdown",
   "id": "ca4b8cf5",
   "metadata": {},
   "source": [
    "## Load FIPS codes into a 2D array "
   ]
  },
  {
   "cell_type": "code",
   "execution_count": 92,
   "id": "0fd94a6d",
   "metadata": {},
   "outputs": [],
   "source": [
    "count2 = 0\n",
    "# empty 2D array with 2 rows\n",
    "FIPScodes = [[] for _ in range(2)]\n",
    "\n",
    "with open('data\\\\county_FIPScodes.txt', 'r') as input_file:\n",
    "    for line in input_file:\n",
    "        count2 = count2 + 1;\n",
    "        words = line.strip().split()\n",
    "        #print(words)\n",
    "        if (count2%2 == 0):\n",
    "            if (len(words) == 4):\n",
    "                FIPScodes[0].append(words[-4] + ' ' + words[-3])\n",
    "            else:\n",
    "                FIPScodes[0].append(words[-3])\n",
    "            FIPScodes[1].append(words[-1])\n",
    "        # this gives the county name and code of the 3rd county\n",
    "        # FIPScodes[0][3], FIPScodes[1][3]"
   ]
  },
  {
   "cell_type": "code",
   "execution_count": 93,
   "id": "90519a21",
   "metadata": {},
   "outputs": [
    {
     "data": {
      "text/plain": [
       "(2, 'Benton', '007')"
      ]
     },
     "execution_count": 93,
     "metadata": {},
     "output_type": "execute_result"
    }
   ],
   "source": [
    "len(FIPScodes), FIPScodes[0][3], FIPScodes[1][3]"
   ]
  },
  {
   "cell_type": "markdown",
   "id": "7198e4f7",
   "metadata": {},
   "source": [
    "FIPScodes[0][3], FIPScodes[1][3] gives county name and tract number respectively. Note block group is always a single digit number so there is no need for translation for block group number. "
   ]
  },
  {
   "cell_type": "markdown",
   "id": "8e3084d0",
   "metadata": {},
   "source": [
    "## Import data"
   ]
  },
  {
   "cell_type": "markdown",
   "id": "00ef5c69",
   "metadata": {},
   "source": [
    "The following cell imports the data into different hard-coded arrays. This can be a generalized later. "
   ]
  },
  {
   "cell_type": "code",
   "execution_count": 94,
   "id": "30f65d0d",
   "metadata": {},
   "outputs": [
    {
     "name": "stdout",
     "output_type": "stream",
     "text": [
      "['Unnamed:', '0', 'population_den', 'Area', 'female_per', 'children_living_with_single_parents', 'owner_occupied', 'some_college_more', 'dropped_out_schoolOrCollege', 'sep_wid_div', 'unemp', 'debt_housing_units', 'housing_retirement_income', 'females_per_tier1_jobs', 'household_income_less_than_20k', 'household_size_greater_than_equal_3', 'age_35_to_54', 'family_household', 'household_self_emp', 'hh_dividends', 'yr_built', 'electricity_cost_per', 'gross_rent', 'pool_publicTransport', 'bike']\n",
      "count: \n",
      "1\n",
      "length of blocks =  2294 , of tracts =  2294 , of counties =  2294\n"
     ]
    }
   ],
   "source": [
    "count = 0\n",
    "err = 0\n",
    "blocks = []\n",
    "census_tracts = []\n",
    "counties = [] # updated to counties_FIPS later (use counties_FIPS)\n",
    "population_den = []\n",
    "area = []\n",
    "female_per = []\n",
    "children_living_with_single_parents = []\n",
    "owner_occupied = []\n",
    "some_college_more = []\n",
    "dropped_out_schoolOrCollege = []\n",
    "sep_wid_div = []\n",
    "unemp = []\n",
    "debt_housing_units = []\n",
    "housing_retirement_income = []\n",
    "females_per_tier1_jobs = []\n",
    "household_income_less_than_20k = []\n",
    "household_size_greater_than_equal_3 = []\n",
    "age_35_to_54 = []\n",
    "family_household = []\n",
    "household_self_emp = []\n",
    "hh_dividends = []\n",
    "yr_built = []\n",
    "electricity_cost_per = []\n",
    "gross_rent = []\n",
    "pool_publicTransport = []\n",
    "bike = []\n",
    "\n",
    "with open(input_filename, 'r') as input_file:\n",
    "    for line in input_file:\n",
    "        count = count + 1\n",
    "        words = line.strip().split()\n",
    "        if len(words) < 32:\n",
    "                print(words)\n",
    "                print('count: ')\n",
    "                print(count)\n",
    "        if count != 1:\n",
    "            # blocks.append(words[1])\n",
    "            blocks.append(words[2].replace(',', ''))\n",
    "            census_tracts.append(words[5].replace(',', ''))\n",
    "            counties.append(words[6].replace(',', ''))\n",
    "            \n",
    "            population_den.append(words[9])\n",
    "            area.append(words[10])\n",
    "            female_per.append(words[11])\n",
    "            children_living_with_single_parents.append(words[12])\n",
    "            owner_occupied.append(words[13])\n",
    "            some_college_more.append(words[14])\n",
    "            dropped_out_schoolOrCollege.append(words[15])\n",
    "            sep_wid_div.append(words[16])\n",
    "            unemp.append(words[17])\n",
    "            debt_housing_units.append(words[18])\n",
    "            housing_retirement_income.append(words[19])\n",
    "            females_per_tier1_jobs.append(words[20])\n",
    "            household_income_less_than_20k.append(words[21])\n",
    "            household_size_greater_than_equal_3.append(words[22])\n",
    "            age_35_to_54.append(words[23])\n",
    "            family_household.append(words[24])\n",
    "            household_self_emp.append(words[25])\n",
    "            hh_dividends.append(words[26])\n",
    "            yr_built.append(words[27])\n",
    "            electricity_cost_per.append(words[28])\n",
    "            gross_rent.append(words[29])\n",
    "            pool_publicTransport.append(words[30])\n",
    "            bike.append(words[31])  \n",
    "\n",
    "print(\"length of blocks = \", len(blocks), \", of tracts = \", len(census_tracts), \", of counties = \", len(counties))"
   ]
  },
  {
   "cell_type": "code",
   "execution_count": 95,
   "id": "1319bc11",
   "metadata": {},
   "outputs": [],
   "source": [
    "counties_FIPS = [None] * len(counties)\n",
    "for i, county in enumerate(counties):\n",
    "    for j in range(len(FIPScodes[0])):\n",
    "        if (county == FIPScodes[0][j]):\n",
    "            counties_FIPS[i] = FIPScodes[1][j]"
   ]
  },
  {
   "cell_type": "code",
   "execution_count": 96,
   "id": "23e80535",
   "metadata": {},
   "outputs": [
    {
     "name": "stdout",
     "output_type": "stream",
     "text": [
      "201.02\n",
      "020102\n",
      "05007-020102-4\n"
     ]
    }
   ],
   "source": [
    "key_AR = []\n",
    "\n",
    "for i in range(len(blocks)):\n",
    "    elem3 = blocks[i]\n",
    "    elem2 = census_tracts[i]\n",
    "    # print some random data before and after formatting to see the effect of format number function\n",
    "    if i == 67:\n",
    "        print(elem2)\n",
    "    elem2 = format_number(elem2)\n",
    "    if i == 67:\n",
    "        print(elem2)\n",
    " \n",
    "    elem1 = str('05') + str(counties_FIPS[i]) # append 05 for Arkansas\n",
    "    result_elem = f\"{elem1}-{elem2}-{elem3}\"\n",
    "    key_AR.append(result_elem)\n",
    "\n",
    "print(key_AR[67])"
   ]
  },
  {
   "cell_type": "code",
   "execution_count": 97,
   "id": "092dea53",
   "metadata": {},
   "outputs": [
    {
     "name": "stdout",
     "output_type": "stream",
     "text": [
      "length =  2294 , ex:  05001-480500-2, 2476.3, 0.75, 0.52, 0.96, 262, 0.54, 0, 0.2, 0.03, 0.68, 0.27, 0.46, 0.79, 0.25, 0.25, 0.65, 0.08, 0.04, 1966, 0.53, 0.16, 0.05, 0\n",
      "i =  141 cell =  05007-020805-1, 803.4, 1.89, 0.47, 0.04, 562, 0.78, 0, 0.09, 0, 0.71, 0.32, 0.42, 0.96, 0.35, 0.21, 0.9, 0.04, 0.33, 1999, 0.71, 0, 0.04, 0\n",
      "i =  142 cell =  05007-020805-2, 490.8, 3.84, 0.42, 0.14, 564, 0.69, 0, 0.29, 0.06, 0.84, 0.27, 0.38, 0.88, 0.25, 0.25, 0.58, 0.2, 0.28, 1980, 0.59, 0.06, 0.06, 0\n",
      "i =  143 cell =  05007-020805-3, 1118.7, 0.97, 0.51, 0.18, 435, 0.69, 0, 0.1, 0.02, 0.5, 0.33, 0.41, 0.99, 0.24, 0.19, 0.78, 0.12, 0.45, 1985, 0.73, 0.22, 0.16, 0\n",
      "i =  144 cell =  05007-020806-1, 761.7, 1.32, 0.55, 0, 484, 0.78, 0, 0.22, 0.02, 0.5, 0.64, 0.26, 0.97, 0.11, 0.07, 0.64, 0.02, 0.31, 1993, 0.79, 0, 0.04, 0\n",
      "i =  145 cell =  05007-020806-2, 219.4, 8.42, 0.46, 0.09, 602, 0.52, 0, 0.28, 0.01, 0.47, 0.24, 0.27, 0.88, 0.35, 0.21, 0.49, 0.02, 0.23, 2001, 0.75, 0, 0.02, 0\n",
      "i =  146 cell =  05007-020806-3, 381.6, 9.66, 0.49, 0.04, 1117, 0.79, 0, 0.1, 0.01, 0.58, 0.22, 0.82, 0.99, 0.54, 0.34, 0.85, 0.21, 0.44, 2004, 0.4, 0, 0.07, 0\n",
      "i =  147 cell =  05007-020903-1, 4533.6, 0.58, 0.41, 0.31, 424, 0.8, 0, 0.22, 0.01, 0.64, 0.24, 0.66, 0.93, 0.56, 0.26, 0.66, 0.03, 0.19, 2005, 0.76, 0, 0.02, 0\n",
      "i =  148 cell =  05007-020903-2, 5480.9, 0.44, 0.6, 0.14, 549, 0.78, 0, 0.22, 0.02, 0.92, 0.15, 0.41, 0.99, 0.44, 0.26, 0.9, 0.02, 0.2, 2007, 0.4, 0.08, 0.02, 0\n",
      "i =  149 cell =  05007-020904-1, 5238.2, 0.62, 0.51, 0.02, 955, 0.75, 0.03, 0.11, 0.02, 0.91, 0.07, 0.59, 0.87, 0.58, 0.29, 0.73, 0.08, 0.14, 2004, 0.19, 0.09, 0.1, 0\n",
      "i =  150 cell =  05007-020904-2, 1964.1, 2.16, 0.56, 0.1, 953, 0.75, 0, 0.08, 0.01, 0.91, 0.11, 0.62, 1, 0.65, 0.25, 0.95, 0.03, 0.11, 2006, 0.31, 0.06, 0.07, 0\n",
      "i =  151 cell =  05007-020905-1, 71.5, 14.22, 0.47, 0.06, 328, 0.45, 0, 0.12, 0.01, 0.55, 0.34, 0.63, 0.93, 0.45, 0.31, 0.87, 0.32, 0, 2002, 0.53, 0, 0.13, 0\n",
      "i =  152 cell =  05007-020905-2, 60.1, 31.34, 0.57, 0.47, 638, 0.42, 0, 0.13, 0.01, 0.43, 0.26, 0.32, 0.8, 0.4, 0.28, 0.71, 0.14, 0.09, 1986, 0.29, 0, 0.02, 0\n",
      "i =  153 cell =  05007-020906-1, 295, 8.1, 0.49, 0.01, 635, 0.67, 0, 0.16, 0.02, 0.85, 0.19, 0.56, 1, 0.48, 0.34, 0.67, 0.07, 0.21, 2006, 0.31, 0.02, 0.1, 0\n",
      "i =  154 cell =  05007-020906-2, 94, 17.17, 0.5, 0.18, 442, 0.59, 0, 0.06, 0.05, 0.57, 0.1, 0.36, 0.89, 0.69, 0.31, 0.8, 0.17, 0.24, 1997, 0.4, 0.11, 0.25, 0\n",
      "i =  155 cell =  05007-020906-3, 452.4, 2.72, 0.57, 0.21, 408, 0.85, 0.37, 0.11, 0.06, 0.7, 0.32, 0.23, 1, 0.71, 0.36, 0.89, 0.27, 0.16, 2004, 0.27, 1, 0, 0\n",
      "i =  156 cell =  05007-021001-1, 82.7, 8.51, 0.4, 0.3, 213, 0.38, 0.52, 0.22, 0.02, 0.45, 0.12, 0.12, 0.83, 0.29, 0.29, 0.65, 0.02, 0.19, 1978, 0.57, 0.23, 0.24, 0\n",
      "i =  157 cell =  05007-021001-2, 43.2, 49.96, 0.58, 0.49, 532, 0.32, 0.25, 0.2, 0, 0.55, 0.15, 0.42, 0.89, 0.66, 0.38, 0.85, 0.13, 0.21, 1993, 0.29, 0, 0.02, 0\n",
      "i =  158 cell =  05007-021001-3, 25.5, 38.57, 0.47, 0.36, 243, 0.42, 0, 0.24, 0, 0.56, 0.18, 0.14, 0.92, 0.34, 0.39, 0.72, 0.1, 0.04, 1994, 0.58, 0, 0.03, 0\n",
      "i =  159 cell =  05007-021001-4, 380.7, 5.09, 0.4, 0.4, 212, 0.33, 0, 0.22, 0, 0.89, 0.08, 0.34, 0.86, 0.61, 0.29, 0.79, 0.01, 0.02, 1992, 0.47, 0.06, 0.23, 0\n"
     ]
    }
   ],
   "source": [
    "# combine the arrays\n",
    "result_array = []\n",
    "\n",
    "for i in range(len(key_AR)):\n",
    "    concatenated_string = f\"{key_AR[i]}, {population_den[i]}, {area[i]}, {female_per[i]},\\\n",
    " {children_living_with_single_parents[i]}, {owner_occupied[i]},\\\n",
    " {some_college_more[i]}, {dropped_out_schoolOrCollege[i]}, {sep_wid_div[i]}, {unemp[i]},\\\n",
    " {debt_housing_units[i]}, {housing_retirement_income[i]},\\\n",
    " {females_per_tier1_jobs[i]}, {household_income_less_than_20k[i]}, {household_size_greater_than_equal_3[i]},\\\n",
    " {age_35_to_54[i]}, {family_household[i]}, {household_self_emp[i]}, {hh_dividends[i]}, {yr_built[i]},\\\n",
    " {electricity_cost_per[i]}, {gross_rent[i]}, {pool_publicTransport[i]}, {bike[i]}\"\n",
    "    \n",
    "    result_array.append(concatenated_string)\n",
    "\"\"\"population_den\n",
    "area\n",
    "female_per\n",
    "children_living_with_single_parents\n",
    "owner_occupied\n",
    "some_college_more\n",
    "dropped_out_schoolOrCollege\n",
    "sep_wid_div\n",
    "unemp\n",
    "debt_housing_units\n",
    "housing_retirement_income\n",
    "females_per_tier1_jobs\n",
    "household_income_less_than_20k\n",
    "household_size_greater_than_equal_3\n",
    "age_35_to_54\n",
    "family_household\n",
    "household_self_emp\n",
    "hh_dividends\n",
    "yr_built\n",
    "electricity_cost_per\n",
    "gross_rent\n",
    "pool_publicTransport\n",
    "bike\"\"\"\n",
    "print(\"length = \", len(result_array), \", ex: \", result_array[7])\n",
    "for i in range(len(result_array)):\n",
    "    if i > 140 and i < 160:\n",
    "        print(\"i = \", i, \"cell = \", result_array[i])"
   ]
  },
  {
   "cell_type": "code",
   "execution_count": 100,
   "id": "543e0e63",
   "metadata": {},
   "outputs": [],
   "source": [
    "import csv\n",
    "count = 0\n",
    "# heading = [\"key_AR\", \"population_den\", \"area\", \"male_per\", \"female_per\", \"household_size\", \"children_living_with_single_parents\", \"owner_occupied\", \"two_or_more_vehicles_per_household\", \"some_college_more\", \"dropped_out_schoolOrCollege\", \"sep_wid_div\", \"unemp\", \"debt_housing_units\", \"housing_retirement_income\", \"males_per_tier1_jobs\", \"females_per_tier1_jobs\", \"household_income_less_than_20k\", \"household_size_greater_than_equal_3\"]\n",
    "# removes quotation marks\n",
    "with open(output_file, 'w', newline='') as file:\n",
    "    writer = csv.writer(file, delimiter=',', quoting=csv.QUOTE_NONE, escapechar='\\\\')\n",
    "    if count == 0:\n",
    "        file.write(\"key,population_den,area,female_per,children_living_with_single_parents,owner_occupied,some_college_more,dropped_out_schoolOrCollege,sep_wid_div,unemp,debt_housing_units,housing_retirement_income,females_per_tier1_jobs,household_income_less_than_20k,household_size_greater_than_equal_3,age_35_to_54,family_household,household_self_emp,hh_dividends,yr_built,electricity_cost_per,gross_rent,pool_publicTransport,bike\\n\")\n",
    "    for row in result_array:\n",
    "        writer.writerow(row.split(', '))"
   ]
  },
  {
   "cell_type": "code",
   "execution_count": null,
   "id": "de6abd4f",
   "metadata": {},
   "outputs": [],
   "source": []
  }
 ],
 "metadata": {
  "kernelspec": {
   "display_name": "Python 3 (ipykernel)",
   "language": "python",
   "name": "python3"
  },
  "language_info": {
   "codemirror_mode": {
    "name": "ipython",
    "version": 3
   },
   "file_extension": ".py",
   "mimetype": "text/x-python",
   "name": "python",
   "nbconvert_exporter": "python",
   "pygments_lexer": "ipython3",
   "version": "3.9.12"
  }
 },
 "nbformat": 4,
 "nbformat_minor": 5
}
