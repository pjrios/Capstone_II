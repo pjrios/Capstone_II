{
 "cells": [
  {
   "cell_type": "markdown",
   "id": "aba997fd",
   "metadata": {},
   "source": [
    "# Merge files"
   ]
  },
  {
   "cell_type": "markdown",
   "id": "2522b6fc",
   "metadata": {},
   "source": [
    "Merge prediction results (from solar panel segmentation) and sociodemographic dataset to create a merged file. \n",
    "\n",
    "Input files: sdData.csv and predictions.csv\n",
    "\n",
    "Output file: mergedData.csv (This file contains all the data from sociodemographic dataset and solar panel dataset)"
   ]
  },
  {
   "cell_type": "code",
   "execution_count": 37,
   "id": "847177d1",
   "metadata": {},
   "outputs": [],
   "source": [
    "input_filename1 = \"data/sdData.csv\"\n",
    "input_filename2 = \"data/predictions.csv\"\n",
    "output_filename = \"data/mergedData.csv\""
   ]
  },
  {
   "cell_type": "code",
   "execution_count": 38,
   "id": "47638f01",
   "metadata": {},
   "outputs": [],
   "source": [
    "import pandas as pd\n",
    "\n",
    "df1 = pd.read_csv(input_filename2)\n",
    "df2 = pd.read_csv(input_filename1)"
   ]
  },
  {
   "cell_type": "code",
   "execution_count": 39,
   "id": "5aedd3f7",
   "metadata": {},
   "outputs": [
    {
     "data": {
      "text/plain": [
       "Index(['key', 'population_den', 'area', 'female_per',\n",
       "       'children_living_with_single_parents', 'owner_occupied',\n",
       "       'some_college_more', 'dropped_out_schoolOrCollege', 'sep_wid_div',\n",
       "       'unemp', 'debt_housing_units', 'housing_retirement_income',\n",
       "       'females_per_tier1_jobs', 'household_income_less_than_20k',\n",
       "       'household_size_greater_than_equal_3', 'age_35_to_54',\n",
       "       'family_household', 'household_self_emp', 'hh_dividends', 'yr_built',\n",
       "       'electricity_cost_per', 'gross_rent', 'pool_publicTransport', 'bike',\n",
       "       'houses_per'],\n",
       "      dtype='object')"
      ]
     },
     "execution_count": 39,
     "metadata": {},
     "output_type": "execute_result"
    }
   ],
   "source": [
    "df2.columns"
   ]
  },
  {
   "cell_type": "code",
   "execution_count": 40,
   "id": "384dc256",
   "metadata": {},
   "outputs": [],
   "source": [
    "merged_df = pd.merge(df2, df1, on='key')"
   ]
  },
  {
   "cell_type": "code",
   "execution_count": 41,
   "id": "cde331a0",
   "metadata": {},
   "outputs": [],
   "source": [
    "merged_df.to_csv(output_filename, index=False)"
   ]
  },
  {
   "cell_type": "code",
   "execution_count": null,
   "id": "8357c44e",
   "metadata": {},
   "outputs": [],
   "source": []
  }
 ],
 "metadata": {
  "kernelspec": {
   "display_name": "Python 3 (ipykernel)",
   "language": "python",
   "name": "python3"
  },
  "language_info": {
   "codemirror_mode": {
    "name": "ipython",
    "version": 3
   },
   "file_extension": ".py",
   "mimetype": "text/x-python",
   "name": "python",
   "nbconvert_exporter": "python",
   "pygments_lexer": "ipython3",
   "version": "3.9.12"
  }
 },
 "nbformat": 4,
 "nbformat_minor": 5
}
