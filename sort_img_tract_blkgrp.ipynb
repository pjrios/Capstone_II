{
 "cells": [
  {
   "cell_type": "code",
   "execution_count": 1,
   "metadata": {
    "scrolled": true
   },
   "outputs": [
    {
     "name": "stdout",
     "output_type": "stream",
     "text": [
      "Collecting geopandas\n",
      "  Using cached geopandas-0.12.2-py3-none-any.whl (1.1 MB)\n",
      "Collecting pyproj>=2.6.1.post1\n",
      "  Downloading pyproj-3.5.0-cp39-cp39-win_amd64.whl (5.1 MB)\n",
      "     ---------------------------------------- 5.1/5.1 MB 19.2 MB/s eta 0:00:00\n",
      "Collecting fiona>=1.8\n",
      "  Downloading Fiona-1.9.3-cp39-cp39-win_amd64.whl (22.0 MB)\n",
      "     --------------------------------------- 22.0/22.0 MB 21.1 MB/s eta 0:00:00\n",
      "Requirement already satisfied: shapely>=1.7 in c:\\users\\lavaugha\\anaconda3\\lib\\site-packages (from geopandas) (2.0.1)\n",
      "Requirement already satisfied: pandas>=1.0.0 in c:\\users\\lavaugha\\anaconda3\\lib\\site-packages (from geopandas) (1.4.4)\n",
      "Requirement already satisfied: packaging in c:\\users\\lavaugha\\anaconda3\\lib\\site-packages (from geopandas) (21.3)\n",
      "Collecting click-plugins>=1.0\n",
      "  Using cached click_plugins-1.1.1-py2.py3-none-any.whl (7.5 kB)\n",
      "Collecting munch>=2.3.2\n",
      "  Using cached munch-2.5.0-py2.py3-none-any.whl (10 kB)\n",
      "Requirement already satisfied: importlib-metadata in c:\\users\\lavaugha\\anaconda3\\lib\\site-packages (from fiona>=1.8->geopandas) (4.11.3)\n",
      "Requirement already satisfied: certifi in c:\\users\\lavaugha\\anaconda3\\lib\\site-packages (from fiona>=1.8->geopandas) (2022.9.14)\n",
      "Requirement already satisfied: attrs>=19.2.0 in c:\\users\\lavaugha\\anaconda3\\lib\\site-packages (from fiona>=1.8->geopandas) (21.4.0)\n",
      "Requirement already satisfied: click~=8.0 in c:\\users\\lavaugha\\anaconda3\\lib\\site-packages (from fiona>=1.8->geopandas) (8.0.4)\n",
      "Collecting cligj>=0.5\n",
      "  Using cached cligj-0.7.2-py3-none-any.whl (7.1 kB)\n",
      "Requirement already satisfied: pytz>=2020.1 in c:\\users\\lavaugha\\anaconda3\\lib\\site-packages (from pandas>=1.0.0->geopandas) (2022.1)\n",
      "Requirement already satisfied: python-dateutil>=2.8.1 in c:\\users\\lavaugha\\anaconda3\\lib\\site-packages (from pandas>=1.0.0->geopandas) (2.8.2)\n",
      "Requirement already satisfied: numpy>=1.18.5 in c:\\users\\lavaugha\\anaconda3\\lib\\site-packages (from pandas>=1.0.0->geopandas) (1.21.5)\n",
      "Requirement already satisfied: pyparsing!=3.0.5,>=2.0.2 in c:\\users\\lavaugha\\anaconda3\\lib\\site-packages (from packaging->geopandas) (3.0.9)\n",
      "Requirement already satisfied: colorama in c:\\users\\lavaugha\\anaconda3\\lib\\site-packages (from click~=8.0->fiona>=1.8->geopandas) (0.4.5)\n",
      "Requirement already satisfied: six in c:\\users\\lavaugha\\anaconda3\\lib\\site-packages (from munch>=2.3.2->fiona>=1.8->geopandas) (1.16.0)\n",
      "Requirement already satisfied: zipp>=0.5 in c:\\users\\lavaugha\\anaconda3\\lib\\site-packages (from importlib-metadata->fiona>=1.8->geopandas) (3.8.0)\n",
      "Installing collected packages: pyproj, munch, cligj, click-plugins, fiona, geopandas\n",
      "Successfully installed click-plugins-1.1.1 cligj-0.7.2 fiona-1.9.3 geopandas-0.12.2 munch-2.5.0 pyproj-3.5.0\n"
     ]
    },
    {
     "name": "stderr",
     "output_type": "stream",
     "text": [
      "'rm' is not recognized as an internal or external command,\n",
      "operable program or batch file.\n"
     ]
    }
   ],
   "source": [
    "!pip install geopandas\n",
    "!rm -rf sample_data/\n",
    "pip install censusgeocode"
   ]
  },
  {
   "cell_type": "code",
   "execution_count": 19,
   "metadata": {
    "id": "OTy2gHQg0L8i"
   },
   "outputs": [],
   "source": [
    "import geopandas as gpd\n",
    "import json\n",
    "import subprocess\n",
    "import shutil\n",
    "import os, glob\n",
    "import time\n",
    "import censusgeocode as cg\n",
    "from tqdm import tqdm\n",
    "import geopandas as gpd\n",
    "from shapely.geometry import Polygon, box"
   ]
  },
  {
   "cell_type": "code",
   "execution_count": 24,
   "metadata": {
    "id": "ccL3qCXv1UPu"
   },
   "outputs": [],
   "source": [
    "state = 'arkansas'\n",
    "# Change county to the one you are sorting. Do not include \"_County\" as that is appended below.\n",
    "county = 'Arkansas'"
   ]
  },
  {
   "cell_type": "code",
   "execution_count": 25,
   "metadata": {
    "id": "sGdXd4SO0S2x"
   },
   "outputs": [
    {
     "name": "stdout",
     "output_type": "stream",
     "text": [
      "Paths:\n",
      "--Images           : C:\\Users\\lavaugha\\Box\\Images\\states\\arkansas\\Arkansas_County\n",
      "--Coordinates      : G:\\My Drive\\states\\arkansas\\counties_filtered\n"
     ]
    }
   ],
   "source": [
    "# Change \"lavaugha\" to your uark username; if your Box is stored in a different folder, you may need to go create that path instead\n",
    "img_path               = \"C:\\\\Users\\\\lavaugha\\\\Box\\\\Images\\\\states\\\\arkansas\\\\{}_County\".format(county)\n",
    "coord_path             = \"G:\\\\My Drive\\\\states\\\\{}\\\\counties_filtered\".format(state)\n",
    "\n",
    "print(\"Paths:\")\n",
    "print(\"--Images           : \" + img_path)\n",
    "print(\"--Coordinates      : \" + coord_path)"
   ]
  },
  {
   "cell_type": "code",
   "execution_count": 26,
   "metadata": {},
   "outputs": [],
   "source": [
    "def get_square_bounds(polygon):\n",
    "    # Convert the input polygon to a shapely Polygon\n",
    "    shapely_polygon = Polygon(polygon[0])\n",
    "    \n",
    "    # Get the bounding box of the polygon\n",
    "    bbox = shapely_polygon.bounds\n",
    "    \n",
    "    # Extract the left, right, top and bottom coordinates\n",
    "    left, bottom, right, top = bbox\n",
    "    return f\"{left} {right} {top} {bottom}\""
   ]
  },
  {
   "cell_type": "code",
   "execution_count": 18,
   "metadata": {
    "scrolled": true
   },
   "outputs": [
    {
     "name": "stdout",
     "output_type": "stream",
     "text": [
      "Looking for coordinates in G:\\My Drive\\states\\arkansas\\counties_filtered\\filtered_Arkansas_Ashley.geojson\n",
      "Pre-check: True\n",
      "Opened coordinates file successfully\n",
      "Looking for tracts in C:\\Users\\lavaugha\\Downloads\\AR_census_tracts_by_county\\AR_census_tracts_Arkansas_County_format.json\n",
      "Pre-check: True\n",
      "Opened tracts file successfully\n",
      "MultiPolygon\n",
      "Polygon\n",
      "Polygon\n",
      "Polygon\n",
      "Polygon\n",
      "Polygon\n",
      "Polygon\n",
      "MultiPolygon\n",
      "MultiPolygon\n",
      "MultiPolygon\n",
      "MultiPolygon\n",
      "MultiPolygon\n",
      "Polygon\n",
      "Polygon\n",
      "MultiPolygon\n",
      "MultiPolygon\n",
      "MultiPolygon\n",
      "MultiPolygon\n"
     ]
    },
    {
     "name": "stderr",
     "output_type": "stream",
     "text": [
      "100%|██████████| 100/100 [00:53<00:00,  1.86it/s]\n"
     ]
    }
   ],
   "source": [
    "# Open the file from which image coordinates will be retrieved given a task number.\n",
    "print(\"Looking for coordinates in \" + coord_path + \"\\\\filtered_Arkansas_{}.geojson\".format(county))\n",
    "print(\"Pre-check: \" + str(os.path.exists(coord_path + \"\\\\filtered_Arkansas_{}.geojson\".format(county))))\n",
    "try:\n",
    "    with open(coord_path + \"\\\\filtered_Arkansas_{}.geojson\".format(county), 'r') as f:\n",
    "        if not f.closed:\n",
    "            print(\"Opened coordinates file successfully\")\n",
    "        else:\n",
    "            print(\"Did not open coordinates file successfully\")\n",
    "            sys.exit()\n",
    "        img_coordinates_data = json.load(f)\n",
    "        img_coordinates = gpd.GeoDataFrame.from_features(img_coordinates_data)\n",
    "except:\n",
    "    print(\"Did not open coordinates file successfully\")\n",
    "    traceback.print_exc()\n",
    "\n",
    "# Extract the task number of an image and retrieve its corresponding coordinates\n",
    "tasks_new = []\n",
    "tasks_old = []\n",
    "for image in tqdm(os.listdir(img_path)):\n",
    "    img_rev = image[::-1]\n",
    "    if \"task\" in image:\n",
    "        task = (img_rev[img_rev.find('.')+1 : img_rev.find('k')])[::-1]\n",
    "        latitude = str(img_coordinates_data['features'][int(task)]['geometry']['coordinates'][0][0][0])\n",
    "        longitude = str(img_coordinates_data['features'][int(task)]['geometry']['coordinates'][0][0][1])\n",
    "        geo_info = cg.coordinates(x=latitude, y=longitude)\n",
    "        census_tract = str(geo_info['Census Tracts'][0]['TRACT'])\n",
    "        block_group = geo_info['2020 Census Blocks'][0]['BLKGRP']\n",
    "        \n",
    "        # Categorize images\n",
    "        if not os.path.exists(img_path + \"\\\\\" + census_tract + \"_CensusTract\\\\\" + block_group + \"_BlockGroup\"):\n",
    "            os.makedirs(img_path + \"\\\\\" + census_tract + \"_CensusTract\\\\\" + block_group + \"_BlockGroup\")\n",
    "        shutil.move(img_path + \"\\\\\" + image, img_path + \"\\\\\" + census_tract + \"_CensusTract\\\\\" + block_group + \"_BlockGroup\")\n",
    "        tasks_new.append(task)"
   ]
  }
 ],
 "metadata": {
  "colab": {
   "provenance": []
  },
  "kernelspec": {
   "display_name": "Python 3 (ipykernel)",
   "language": "python",
   "name": "python3"
  },
  "language_info": {
   "codemirror_mode": {
    "name": "ipython",
    "version": 3
   },
   "file_extension": ".py",
   "mimetype": "text/x-python",
   "name": "python",
   "nbconvert_exporter": "python",
   "pygments_lexer": "ipython3",
   "version": "3.9.13"
  }
 },
 "nbformat": 4,
 "nbformat_minor": 1
}
