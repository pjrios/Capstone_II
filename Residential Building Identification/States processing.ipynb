{
 "cells": [
  {
   "cell_type": "code",
   "execution_count": null,
   "id": "fa03b8fd",
   "metadata": {},
   "outputs": [],
   "source": [
    "!pip install geopandas"
   ]
  },
  {
   "cell_type": "code",
   "execution_count": null,
   "id": "16f31b57",
   "metadata": {},
   "outputs": [],
   "source": [
    "from tqdm import tqdm\n",
    "from shapely.geometry import shape\n",
    "import geopandas as gpd\n",
    "import os\n",
    "import json\n",
    "import tqdm\n",
    "%matplotlib inline "
   ]
  },
  {
   "cell_type": "code",
   "execution_count": null,
   "id": "8c16d833",
   "metadata": {},
   "outputs": [],
   "source": [
    "state           = \"arkansas\"\n",
    "working_dir     = \"C:\\\\Users\\\\pjrio\\\\tl_2020_05_bg\"\n",
    "if not os.path.isdir(working_dir):\n",
    "    print(\"Directory is not valid.\")"
   ]
  },
  {
   "cell_type": "code",
   "execution_count": null,
   "id": "8c37608a",
   "metadata": {},
   "outputs": [],
   "source": [
    "# paths to files\n",
    "counties_file_path  = os.path.join(f\"{working_dir}\",f\"{state}-counties.geojson\")\n",
    "nra_file_path       = os.path.join(f\"{working_dir}\",f\"{state}-nra.geojson\")\n",
    "buildings_file_path = os.path.join(f\"{working_dir}\",f\"{state}.geojson\")\n",
    "\n",
    "# Link to the block group level files https://gis.arkansas.gov/product/block-groups-2020-census/\n",
    "group_data_path     = os.path.join(f\"{working_dir}\",\"shape2geojson.geojson\")\n",
    "\n",
    "# paths to directories\n",
    "osm_counties_folder = os.path.join(f\"{working_dir}\",\"osm_counties\")\n",
    "ms_counties_folder  = os.path.join(f\"{working_dir}\",\"ms_counties\")\n",
    "counties_filtered   = os.path.join(f\"{working_dir}\",\"counties_filtered\")\n",
    "\n",
    "files_to_check      = [counties_file_path, nra_file_path, buildings_file_path]\n",
    "\n",
    "# check if files exist, print message if not\n",
    "for file_path in files_to_check:\n",
    "    if not os.path.isfile(file_path):\n",
    "        print(\"File {} does not exist\".format(file_path))\n",
    "\n",
    "# Create output directory if it doesn't exist\n",
    "os.makedirs(osm_counties_folder, exist_ok=True)\n",
    "os.makedirs(ms_counties_folder , exist_ok=True)\n",
    "os.makedirs(counties_filtered  , exist_ok=True)\n",
    "\n",
    "print(\"Paths to files:\")\n",
    "print(\"--counties_file_path : \" + counties_file_path)\n",
    "print(\"--nra_file_path      : \" + nra_file_path)\n",
    "print(\"--buildings_file_path: \" + buildings_file_path + \"\\n\")\n",
    "\n",
    "print(\"Paths to directories:\")\n",
    "print(\"--OSM counties folder: \" + osm_counties_folder)\n",
    "print(\"--MS counties folder : \" + ms_counties_folder)\n",
    "print(\"--Filtered counties  : \" + counties_filtered)"
   ]
  },
  {
   "cell_type": "code",
   "execution_count": null,
   "id": "c3c16719",
   "metadata": {},
   "outputs": [],
   "source": [
    "# Load counties boundaries file\n",
    "print(\"Loading boundaries file...\")\n",
    "with open(counties_file_path, 'r') as f:\n",
    "    boudaries_data = json.load(f)\n",
    "\n",
    "# Convert the county data to a GeoDataFrame\n",
    "counties = gpd.GeoDataFrame.from_features(boudaries_data[\"features\"])\n",
    "print(\"Boundaries file was loaded.\")"
   ]
  },
  {
   "cell_type": "markdown",
   "id": "6be3b1f7",
   "metadata": {},
   "source": [
    "# Divide by Counties"
   ]
  },
  {
   "cell_type": "code",
   "execution_count": null,
   "id": "be85f6da",
   "metadata": {},
   "outputs": [],
   "source": [
    "def create_county_geojson(buildings_file_path, output_dir):\n",
    "    # Load the building data\n",
    "    print(\"Loading buildings...\")\n",
    "    with open(buildings_file_path) as f:\n",
    "        building_data = json.load(f)\n",
    "    buildings = gpd.GeoDataFrame.from_features(building_data)\n",
    "    \n",
    "    # Iterate over each county and create a separate GeoJSON file for each\n",
    "    for i, county in tqdm.tqdm(counties.iterrows(), total=len(counties), desc=\"Processing counties\"):\n",
    "        # Get the geometry for the current county\n",
    "        county_geometry = county[\"geometry\"]\n",
    "\n",
    "        # Get the buildings that fall within the current county\n",
    "        county_buildings = buildings[buildings.within(county_geometry)]\n",
    "\n",
    "        # Save the buildings for the current county to a new GeoJSON file\n",
    "        county_name = county[\"name\"]\n",
    "        state_name = county[\"state_name\"]\n",
    "        county_outputdir =  os.path.join(f\"{output_dir}\",f\"{state_name}_{county_name}.geojson\")\n",
    "        county_buildings.to_file(county_outputdir, driver=\"GeoJSON\")"
   ]
  },
  {
   "cell_type": "markdown",
   "id": "50fc0dbc",
   "metadata": {},
   "source": [
    "### Split MS into counties\n",
    "Given the geojson file of a state from the MS dataset and the conty boundaries of that state, split the state file into smaller states based on the conty divisions."
   ]
  },
  {
   "cell_type": "code",
   "execution_count": null,
   "id": "31500c57",
   "metadata": {},
   "outputs": [],
   "source": [
    "#Split MS data into counties\n",
    "print(\"Split MS data into counties\")\n",
    "create_county_geojson(buildings_file_path, ms_counties_folder)"
   ]
  },
  {
   "cell_type": "markdown",
   "id": "d307ebc9",
   "metadata": {},
   "source": [
    "### Split OSM into counties\n",
    "Given the geojson file of a state from the OSM dataset and the conty boundaries of that state, split the state file into smaller states based on the conty divisions."
   ]
  },
  {
   "cell_type": "code",
   "execution_count": null,
   "id": "1b30b8df",
   "metadata": {},
   "outputs": [],
   "source": [
    "#Split MS data into counties\n",
    "print(\"Split OSM data into counties\")\n",
    "create_county_geojson(nra_file_path, osm_counties_folder)"
   ]
  },
  {
   "cell_type": "markdown",
   "id": "499aae1b",
   "metadata": {},
   "source": [
    "# Filter"
   ]
  },
  {
   "cell_type": "code",
   "execution_count": null,
   "id": "6f8a1047",
   "metadata": {},
   "outputs": [],
   "source": [
    "# Loop through all the GeoJSON files in the ms_counties folder\n",
    "for filename in os.listdir(ms_counties_folder):\n",
    "    print(filename)\n",
    "    if filename.endswith('.geojson'):\n",
    "        ms_filepath = os.path.join(ms_counties_folder, filename)\n",
    "        osm_filepath = os.path.join(osm_counties_folder, filename)\n",
    "        output_filepath = os.path.join(counties_filtered, 'filtered_' + filename)\n",
    "\n",
    "        #print(output_filepath)\n",
    "        if os.path.exists(output_filepath):\n",
    "            # skip the file\n",
    "            print(\"--\"+filename +\" has already been filtered\")\n",
    "            continue\n",
    "\n",
    "        # Load the GeoJSON data for both the ms_counties and osm_counties files\n",
    "        with open(ms_filepath, 'r') as f:\n",
    "            ms_data = json.load(f)\n",
    "        with open(osm_filepath, 'r') as f:\n",
    "            osm_data = json.load(f)\n",
    "\n",
    "        # Create a Shapely object for each feature in the osm_counties file\n",
    "        osm_features = []\n",
    "        for feature in osm_data['features']:\n",
    "            osm_features.append(shape(feature['geometry']))\n",
    "\n",
    "        #print(\"Porcessing: \" + filename)\n",
    "        # Filter the features in the ms_counties file\n",
    "        filtered_features = []\n",
    "        with tqdm.tqdm(total=len(ms_data['features'])) as pbar:\n",
    "            for feature in ms_data['features']:\n",
    "                feature_polygon = shape(feature['geometry'])\n",
    "                for osm_feature in osm_features:\n",
    "                    if osm_feature.contains(feature_polygon):\n",
    "                        break\n",
    "                else:\n",
    "                    filtered_features.append(feature)\n",
    "                pbar.update(1)\n",
    "\n",
    "        # Write the filtered features to a new GeoJSON file\n",
    "        ms_data['features'] = filtered_features\n",
    "        with open(output_filepath, 'w') as f:\n",
    "            json.dump(ms_data, f)"
   ]
  },
  {
   "cell_type": "markdown",
   "id": "a78c24d8",
   "metadata": {},
   "source": [
    "# Split into block groups"
   ]
  },
  {
   "cell_type": "markdown",
   "id": "74dc4e76",
   "metadata": {},
   "source": [
    "Load the FIP state information by county and make a dictionary\n",
    "https://www.census.gov/library/reference/code-lists/ansi.html#county"
   ]
  },
  {
   "cell_type": "code",
   "execution_count": null,
   "id": "85e2770c",
   "metadata": {},
   "outputs": [],
   "source": [
    "# Load the county name data\n",
    "county_name_path = f\"C:\\\\Users\\\\pjrio\\\\tl_2020_05_bg\\\\merge\\\\{state}.txt\"\n",
    "county_names = {}\n",
    "with open(county_name_path) as f:\n",
    "    for line in f:\n",
    "        #print(line)\n",
    "        county_ab, state_number, county_number, county_name, something = line.strip().split(\",\")\n",
    "        county_names[county_number] = county_name\n",
    "#print(len(county_names))\n",
    "print(county_names)"
   ]
  },
  {
   "cell_type": "markdown",
   "id": "76ddcc84",
   "metadata": {},
   "source": [
    "## Load the group level boundary data"
   ]
  },
  {
   "cell_type": "code",
   "execution_count": null,
   "id": "26c04151",
   "metadata": {},
   "outputs": [],
   "source": [
    "# Load the group level boundary data\n",
    "print(\"Loading group level boundaries...\")\n",
    "with open(group_data_path) as f:\n",
    "    group_data = json.load(f)\n",
    "\n",
    "# Convert the group level boundary data to a GeoDataFrame\n",
    "groups = gpd.GeoDataFrame.from_features(group_data[\"features\"])"
   ]
  },
  {
   "cell_type": "code",
   "execution_count": null,
   "id": "8608e93b",
   "metadata": {},
   "outputs": [],
   "source": [
    "def create_group_geojson(buildings_file_path, group_file_path, output_dir):\n",
    "    basename = os.path.basename(buildings_file_path).replace(\".geojson\",\"\")\n",
    "    basename = basename.lower()\n",
    "    basename = basename.replace(f\"filtered_{state}_\",\"\")\n",
    "    \n",
    "    print(basename)\n",
    "    # Load the building data\n",
    "    print(\"Loading buildings...\")\n",
    "    with open(buildings_file_path) as f:\n",
    "        building_data = json.load(f)\n",
    "    buildings = gpd.GeoDataFrame.from_features(building_data)\n",
    "    \n",
    "    # Iterate over each group and create a separate GeoJSON file for each\n",
    "    for i, group in tqdm.tqdm(groups.iterrows(), total=len(groups), desc=\"Processing groups\"):\n",
    "        county_number = group[\"COUNTYFP\"]\n",
    "        county_name = county_names[county_number].replace(\"County\",\"\")  # look up county name in dictionary\n",
    "        county_name = county_name.replace(\" \",\"\")  # look up county name in dictionary\n",
    "        county_name = county_name.lower()\n",
    "        #print(county_name.lower())\n",
    "        if(county_name in basename.lower()):\n",
    "            #print(county_name)\n",
    "            #Get the geometry for the current group\n",
    "            group_geometry = group[\"geometry\"]\n",
    "\n",
    "            # Get the buildings that fall within the current group\n",
    "            group_buildings = buildings[buildings.within(group_geometry)]\n",
    "\n",
    "            # Save the buildings for the current group to a new GeoJSON file\n",
    "            state_name = state\n",
    "            county_number = group[\"COUNTYFP\"]\n",
    "            county_name = county_names[county_number]  # look up county name in dictionary\n",
    "            tract_name = group[\"TRACTCE\"]\n",
    "            group_name = group[\"BLKGRPCE\"]\n",
    "            output_path = os.path.join(output_dir, county_name, tract_name, f\"block_{group_name}.geojson\")\n",
    "            os.makedirs(os.path.dirname(output_path), exist_ok=True)\n",
    "            group_buildings.to_file(output_path, driver=\"GeoJSON\")"
   ]
  },
  {
   "cell_type": "code",
   "execution_count": null,
   "id": "553a2d7d",
   "metadata": {},
   "outputs": [],
   "source": [
    "subdirectories   = [name for name in os.listdir(counties_filtered)]\n",
    "#print(subdirectories)\n",
    "for subdirectory in subdirectories:  \n",
    "    buildings_file_path = counties_filtered +f\"\\\\{subdirectory}\"\n",
    "    #print(buildings_file_path)\n",
    "    create_group_geojson(buildings_file_path, group_data_path, counties_filtered)"
   ]
  }
 ],
 "metadata": {
  "kernelspec": {
   "display_name": "Python 3 (ipykernel)",
   "language": "python",
   "name": "python3"
  },
  "language_info": {
   "codemirror_mode": {
    "name": "ipython",
    "version": 3
   },
   "file_extension": ".py",
   "mimetype": "text/x-python",
   "name": "python",
   "nbconvert_exporter": "python",
   "pygments_lexer": "ipython3",
   "version": "3.10.9"
  }
 },
 "nbformat": 4,
 "nbformat_minor": 5
}
