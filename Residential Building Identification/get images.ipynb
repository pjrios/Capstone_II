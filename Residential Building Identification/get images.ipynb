{
 "cells": [
  {
   "cell_type": "code",
   "execution_count": 1,
   "metadata": {
    "id": "OTy2gHQg0L8i"
   },
   "outputs": [],
   "source": [
    "import json\n",
    "import subprocess\n",
    "import shutil\n",
    "import os, glob\n",
    "import time\n",
    "from tqdm import tqdm\n",
    "from shapely.geometry import Polygon, box"
   ]
  },
  {
   "cell_type": "code",
   "execution_count": 2,
   "metadata": {
    "id": "ccL3qCXv1UPu"
   },
   "outputs": [],
   "source": [
    "state = 'arkansas'"
   ]
  },
  {
   "cell_type": "code",
   "execution_count": 32,
   "metadata": {
    "id": "sGdXd4SO0S2x"
   },
   "outputs": [
    {
     "name": "stdout",
     "output_type": "stream",
     "text": [
      "Paths:\n",
      "--working_directory_path : G:\\My Drive\\states\\arkansas\n",
      "--img_path               : G:\\My Drive\\states\\arkansas\\images\n",
      "--processing             : G:\\My Drive\\states\\arkansas\\images\\processing\n",
      "--filtered_files_path    : G:\\My Drive\\states\\arkansas\\counties_filtered\n",
      "--downloader_path        : C:\\allmapsoft\\gsmd\\downloader.exe \n",
      "--combiner_path          : C:\\allmapsoft\\gsmd\\combiner.exe \n"
     ]
    }
   ],
   "source": [
    "# name of the state we are working with\n",
    "working_directory_path = \"G:\\\\My Drive\\\\states\\\\{}\".format(state)\n",
    "img_path               = \"{}\\\\images\".format(working_directory_path)\n",
    "\n",
    "processing             = \"{}\\\\processing\".format(img_path)\n",
    "\n",
    "# name of the filtered file based on state name example: alaska_filtered.geojson\n",
    "filtered_files_path    = \"G:\\\\My Drive\\\\states\\\\{}\\\\counties_filtered\".format(state)\n",
    "\n",
    "# Note: This paths might need to be change depending on where you installed the software\n",
    "# paths for allmapsoft program\n",
    "downloader_path        = \"C:\\\\allmapsoft\\\\gsmd\\\\downloader.exe \"\n",
    "combiner_path          = \"C:\\\\allmapsoft\\\\gsmd\\\\combiner.exe \"\n",
    "\n",
    "# Create images directory if it doesn't exist\n",
    "os.makedirs(img_path, exist_ok=True)\n",
    "os.makedirs(processing, exist_ok=True)\n",
    "\n",
    "\n",
    "print(\"Paths:\")\n",
    "print(\"--working_directory_path : \" + working_directory_path)\n",
    "print(\"--img_path               : \" + img_path)\n",
    "print(\"--processing             : \" + processing)\n",
    "print(\"--filtered_files_path    : \" + filtered_files_path)\n",
    "\n",
    "print(\"--downloader_path        : \" + downloader_path)\n",
    "print(\"--combiner_path          : \" + combiner_path)"
   ]
  },
  {
   "cell_type": "code",
   "execution_count": 28,
   "metadata": {},
   "outputs": [],
   "source": [
    "def get_square_bounds(polygon):\n",
    "    # Convert the input polygon to a shapely Polygon\n",
    "    shapely_polygon = Polygon(polygon[0])\n",
    "    \n",
    "    # Get the bounding box of the polygon\n",
    "    bbox = shapely_polygon.bounds\n",
    "    \n",
    "    # Extract the left, right, top and bottom coordinates\n",
    "    left, bottom, right, top = bbox\n",
    "    return f\"{left} {right} {top} {bottom}\""
   ]
  },
  {
   "cell_type": "code",
   "execution_count": 29,
   "metadata": {},
   "outputs": [],
   "source": [
    "user = \"TAs_office-Porfirios_desktop\""
   ]
  },
  {
   "cell_type": "code",
   "execution_count": null,
   "metadata": {
    "id": "Ty78EPIbqUCm",
    "scrolled": false
   },
   "outputs": [
    {
     "name": "stdout",
     "output_type": "stream",
     "text": [
      "G:\\My Drive\\states\\arkansas\\counties_filtered\\filtered_Arkansas_Arkansas.geojson\n",
      "Processing: Arkansas_County\n",
      "Processed images: 2689\n"
     ]
    },
    {
     "name": "stderr",
     "output_type": "stream",
     "text": [
      "Processing data:  14%|█▍        | 1286/8871 [5:37:07<36:01:34, 17.10s/it]"
     ]
    }
   ],
   "source": [
    "# Get a list of all the GeoJSON files in the directory\n",
    "geojson_files = glob.glob(os.path.join(filtered_files_path, \"*.geojson\"))\n",
    "#print(len(geojson_files))\n",
    "# Iterate through each file\n",
    "for geojson_file in geojson_files:\n",
    "    \n",
    "    print(geojson_file)\n",
    "    county_name = os.path.basename(geojson_file).split('_')[2].split('.')[0] + \"_County\"\n",
    "    print(f\"Processing: {county_name}\")\n",
    "    \n",
    "    \n",
    "    processing_filepath = processing + \"\\\\{}\".format(county_name)+\".txt\"\n",
    "    # check if the file is being processed  \n",
    "    if os.path.exists(processing_filepath):\n",
    "        # check if you created the processing file\n",
    "        # we do this in case there was an error \n",
    "        # and you did not finihsed processing the file\n",
    "        # skip the file if you did not make it\n",
    "        with open(processing_filepath, 'r') as p:\n",
    "            p_user = p.read()\n",
    "        p.close()\n",
    "        if p_user != user:\n",
    "            print(\"--\"+county_name +\" is being processed by: \" + p_user)\n",
    "            continue\n",
    "    else:\n",
    "        #create a temp file \n",
    "        with open(processing_filepath, 'w') as t:\n",
    "            t.write(user)\n",
    "\n",
    "    \n",
    "    # Open the GeoJSON file\n",
    "    with open(geojson_file, 'r') as f:\n",
    "        data = json.load(f)\n",
    "    \n",
    "    temp = \"{}\\\\{}\\\\temp\".format(img_path,county_name)\n",
    "    os.makedirs(temp, exist_ok=True)\n",
    "    \n",
    "    dst  = os.path.join(img_path, county_name)\n",
    "    # Create images directory if it doesn't exist\n",
    "    os.makedirs(dst, exist_ok=True)\n",
    "    \n",
    "    # Get the checkpoint file for this GeoJSON file\n",
    "    checkpoint_file = dst +\"\\\\checkpoint.txt\"\n",
    "    if os.path.exists(checkpoint_file):\n",
    "        with open(checkpoint_file, 'r') as f:\n",
    "            start_index = int(f.readline().strip())\n",
    "            print(\"Processed images: \" + str(start_index))\n",
    "    else:\n",
    "        start_index = 0\n",
    "\n",
    "    # Iterate through the features in the GeoJSON file\n",
    "    for num, feature in enumerate(tqdm(data['features'][start_index:], desc='Processing data')):\n",
    "        # Get the coordinates of the current feature\n",
    "        coordinates = feature['geometry']['coordinates']\n",
    "        i = num + start_index\n",
    "\n",
    "        # Format = [left longitude, right longitude, top latitude, bottom latitude]\n",
    "        square = get_square_bounds(coordinates)\n",
    "\n",
    "        filename = f\"{county_name}_task{i}.jpg\"\n",
    "\n",
    "        # Generate command\n",
    "        gmid_name = county_name + \"_\" + f\"task{i}.gmid\"\n",
    "        para2 = \"1\"\n",
    "        para3 = \"21\"\n",
    "        command = downloader_path + '\"'+gmid_name +'\\\" ' + para2 +\" \"+ para3 + \" \"+ square +' \"'+ temp +'\"'\n",
    "        # Call cmd and run downloader program\n",
    "        subprocess.run(command, stdout=subprocess.PIPE, stderr=subprocess.PIPE)\n",
    "\n",
    "        combine = combiner_path +'\"' + temp +\"\\\\\"+ gmid_name +\"\\\" jpg meters\"\n",
    "\n",
    "        # Call cmd and run combine program\n",
    "        subprocess.run(combine, stdout=subprocess.PIPE, stderr=subprocess.PIPE)\n",
    "\n",
    "        # Set the source and destination directories\n",
    "        name = county_name + f\"_task{i}\"\n",
    "        img  = name + \".jpg\"\n",
    "        src  = os.path.join(temp, name+\"_combined\")\n",
    "\n",
    "        # Set the source and destination file paths\n",
    "        src_file = os.path.join(src, img)\n",
    "        dst_file = os.path.join(dst, filename)\n",
    "\n",
    "        # Use the shutil module to move the file\n",
    "        shutil.move(src_file, dst_file)\n",
    "\n",
    "        # Clean\n",
    "        # -----Generate command to delete path\n",
    "        folder_path = os.path.join(img_path, name)\n",
    "        combined_folder_path = os.path.join(img_path, name+\"_combined\")\n",
    "\n",
    "        # -----Use the remove function to delete the path\n",
    "        for root, dirs, files in os.walk(folder_path):\n",
    "            for file in files:\n",
    "                path = os.path.join(root,file)\n",
    "                os.chmod(path,0o777)\n",
    "                \n",
    "        #shutil.rmtree(folder_path)\n",
    "        #shutil.rmtree(combined_folder_path)\n",
    "\n",
    "        # Use glob to get a list of all the files in the directory\n",
    "        del_dir = os.path.join(working_directory_path, img_path)\n",
    "        files   = glob.glob(os.path.join(del_dir, '*'))\n",
    "\n",
    "        # Iterate over the list of files and delete them one by one\n",
    "        for file in files:\n",
    "            if os.path.isfile(file):\n",
    "                # If it's a regular file, delete it\n",
    "                os.remove(file)\n",
    "            # Save the checkpoint\n",
    "        with open(checkpoint_file, 'w') as f:\n",
    "            f.write(str(num + start_index))\n",
    "    os.remove(processing_filepath)"
   ]
  },
  {
   "cell_type": "code",
   "execution_count": null,
   "metadata": {},
   "outputs": [],
   "source": []
  }
 ],
 "metadata": {
  "colab": {
   "provenance": []
  },
  "kernelspec": {
   "display_name": "Python 3 (ipykernel)",
   "language": "python",
   "name": "python3"
  },
  "language_info": {
   "codemirror_mode": {
    "name": "ipython",
    "version": 3
   },
   "file_extension": ".py",
   "mimetype": "text/x-python",
   "name": "python",
   "nbconvert_exporter": "python",
   "pygments_lexer": "ipython3",
   "version": "3.10.9"
  }
 },
 "nbformat": 4,
 "nbformat_minor": 1
}
